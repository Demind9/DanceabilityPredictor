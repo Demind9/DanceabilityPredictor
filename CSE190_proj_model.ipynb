{
 "cells": [
  {
   "cell_type": "code",
   "execution_count": 1,
   "id": "d73ae244",
   "metadata": {
    "colab": {
     "base_uri": "https://localhost:8080/"
    },
    "id": "d73ae244",
    "outputId": "1e98ce18-1038-41d9-f224-ec70bde15648"
   },
   "outputs": [
    {
     "name": "stdout",
     "output_type": "stream",
     "text": [
      "2.13.0\n"
     ]
    }
   ],
   "source": [
    "import pickle\n",
    "import time\n",
    "import numpy as np\n",
    "# from music21 import converter, instrument, note, chord, stream\n",
    "# import glob\n",
    "\n",
    "from sklearn.model_selection import train_test_split\n",
    "from numpy.random import choice\n",
    "from collections import OrderedDict\n",
    "\n",
    "import tensorflow as tf\n",
    "from tensorflow.keras.models import Sequential, Model\n",
    "from keras.layers import Dense, Dropout, Input, Flatten, Concatenate, Activation, Lambda\n",
    "from keras.layers import BatchNormalization as BatchNorm\n",
    "from tensorflow.keras.layers import Conv1D, MaxPooling1D, AveragePooling1D\n",
    "from tensorflow.keras.layers import Conv2D, MaxPooling2D, AveragePooling2D\n",
    "from keras.optimizers import SGD, Adam\n",
    "# from keras.layers import LSTM\n",
    "from keras.utils import to_categorical\n",
    "from keras.callbacks import ModelCheckpoint\n",
    "\n",
    "print(tf.__version__)"
   ]
  },
  {
   "cell_type": "code",
   "execution_count": 2,
   "id": "Dw2qPdj8Fb3k",
   "metadata": {
    "id": "Dw2qPdj8Fb3k"
   },
   "outputs": [
    {
     "name": "stdout",
     "output_type": "stream",
     "text": [
      "Found GPU at: /device:GPU:0\n"
     ]
    },
    {
     "name": "stderr",
     "output_type": "stream",
     "text": [
      "2023-08-05 14:29:37.671369: I metal_plugin/src/device/metal_device.cc:1154] Metal device set to: Apple M2 Pro\n",
      "2023-08-05 14:29:37.671385: I metal_plugin/src/device/metal_device.cc:296] systemMemory: 16.00 GB\n",
      "2023-08-05 14:29:37.671390: I metal_plugin/src/device/metal_device.cc:313] maxCacheSize: 5.33 GB\n",
      "2023-08-05 14:29:37.671834: I tensorflow/core/common_runtime/pluggable_device/pluggable_device_factory.cc:303] Could not identify NUMA node of platform GPU ID 0, defaulting to 0. Your kernel may not have been built with NUMA support.\n",
      "2023-08-05 14:29:37.672070: I tensorflow/core/common_runtime/pluggable_device/pluggable_device_factory.cc:269] Created TensorFlow device (/device:GPU:0 with 0 MB memory) -> physical PluggableDevice (device: 0, name: METAL, pci bus id: <undefined>)\n"
     ]
    }
   ],
   "source": [
    "device_name = tf.test.gpu_device_name()\n",
    "if device_name != '/device:GPU:0':\n",
    "  raise SystemError('GPU device not found')\n",
    "print('Found GPU at: {}'.format(device_name))"
   ]
  },
  {
   "cell_type": "code",
   "execution_count": 3,
   "id": "7a4c9a0f",
   "metadata": {
    "colab": {
     "base_uri": "https://localhost:8080/",
     "height": 250
    },
    "id": "7a4c9a0f",
    "outputId": "c81047b8-c18b-459d-a769-e383a2536309"
   },
   "outputs": [
    {
     "data": {
      "text/plain": [
       "((520, 661500, 2), (130, 661500, 2), (520,), (130,))"
      ]
     },
     "execution_count": 3,
     "metadata": {},
     "output_type": "execute_result"
    }
   ],
   "source": [
    "with open('X_array_22050.pkl', 'rb') as file:\n",
    "    X = pickle.load(file)\n",
    "with open('L_array_44100.pkl', 'rb') as file:\n",
    "    labels = pickle.load(file)\n",
    "\n",
    "X_train, X_test, y_train, y_test = train_test_split(X, labels, test_size=0.2, random_state=74)\n",
    "del(X)\n",
    "X_train.shape, X_test.shape, y_train.shape, y_test.shape"
   ]
  },
  {
   "cell_type": "markdown",
   "id": "55969bae",
   "metadata": {
    "id": "55969bae"
   },
   "source": [
    "# Introduce the convolutional networks\n",
    "### The output is not a classifier and instead a numeric value"
   ]
  },
  {
   "cell_type": "code",
   "execution_count": 4,
   "id": "a15e00cd",
   "metadata": {
    "colab": {
     "base_uri": "https://localhost:8080/"
    },
    "id": "a15e00cd",
    "outputId": "730a0729-809c-428d-c4f3-e6b22db5705d"
   },
   "outputs": [],
   "source": [
    "### 1D WAVEFORM PARALLEL CONVOLUTION MODEL\n",
    "\n",
    "def create_model_1(n_samples):\n",
    "    # Mid and side inputs\n",
    "    input_mid = Input(shape = (n_samples, 1))\n",
    "    input_side = Input(shape = (n_samples, 1))\n",
    "\n",
    "    # Convolutional layers for sequence 1\n",
    "    conv_mid = Conv1D(32, 100, activation='relu')(input_mid)\n",
    "    conv_mid = MaxPooling1D(2)(conv_mid)\n",
    "    conv_mid = BatchNorm()(conv_mid)\n",
    "    conv_mid = Conv1D(64, 100, activation='relu')(conv_mid)\n",
    "    conv_mid = MaxPooling1D(2)(conv_mid)\n",
    "    conv_mid = BatchNorm()(conv_mid)\n",
    "    #conv_mid = Flatten()(conv_mid)\n",
    "\n",
    "    # Convolutional layers for sequence 2\n",
    "    conv_side = Conv1D(32, 100, activation='relu')(input_side)\n",
    "    conv_side = MaxPooling1D(2)(conv_side)\n",
    "    conv_side = BatchNorm()(conv_side)\n",
    "    conv_side = Conv1D(64, 100, activation='relu')(conv_side)\n",
    "    conv_side = MaxPooling1D(2)(conv_side)\n",
    "    conv_side = BatchNorm()(conv_side)\n",
    "    #conv_side = Flatten()(conv_side)\n",
    "\n",
    "    # Concatenate the representations of both sequences\n",
    "    combined = Concatenate()([conv_mid, conv_side])\n",
    "\n",
    "    # Fully connected -> output\n",
    "    combined = Dense(64, activation='relu')(combined)\n",
    "    combined = Dense(16, activation='relu')(combined)\n",
    "    prediction = Dense(1, activation='sigmoid')(combined)\n",
    "\n",
    "    # Create the model with two inputs and one output\n",
    "    model = Model(inputs=[input_mid, input_side], outputs=prediction)\n",
    "\n",
    "    return model\n",
    "\n",
    "# Create the regression CNN model\n",
    "#model_1D_wave = create_model_1(X.shape[1]) # Shape is that of one 30 sec sequence, length 1323000\n",
    "#model_1D_wave = create_model_1(661500)\n",
    "\n",
    "# Compile the model for regression\n",
    "#model_1D_wave.compile(optimizer='adam', loss='mean_squared_error', metrics=['mean_absolute_error'])\n",
    "\n",
    "# Print a summary of the model architecture\n",
    "#model_1D_wave.summary()"
   ]
  },
  {
   "cell_type": "code",
   "execution_count": 5,
   "id": "9b8b3bee",
   "metadata": {
    "colab": {
     "base_uri": "https://localhost:8080/"
    },
    "id": "9b8b3bee",
    "outputId": "23b9758e-3bbe-41a6-867e-8eba5b99b858"
   },
   "outputs": [
    {
     "name": "stderr",
     "output_type": "stream",
     "text": [
      "2023-08-05 14:30:09.755563: I tensorflow/core/common_runtime/pluggable_device/pluggable_device_factory.cc:303] Could not identify NUMA node of platform GPU ID 0, defaulting to 0. Your kernel may not have been built with NUMA support.\n",
      "2023-08-05 14:30:09.755598: I tensorflow/core/common_runtime/pluggable_device/pluggable_device_factory.cc:269] Created TensorFlow device (/job:localhost/replica:0/task:0/device:GPU:0 with 0 MB memory) -> physical PluggableDevice (device: 0, name: METAL, pci bus id: <undefined>)\n",
      "WARNING:absl:At this time, the v2.11+ optimizer `tf.keras.optimizers.Adam` runs slowly on M1/M2 Macs, please use the legacy Keras optimizer instead, located at `tf.keras.optimizers.legacy.Adam`.\n",
      "WARNING:absl:There is a known slowdown when using v2.11+ Keras optimizers on M1/M2 Macs. Falling back to the legacy Keras optimizer, i.e., `tf.keras.optimizers.legacy.Adam`.\n"
     ]
    },
    {
     "name": "stdout",
     "output_type": "stream",
     "text": [
      "Model: \"model\"\n",
      "__________________________________________________________________________________________________\n",
      " Layer (type)                Output Shape                 Param #   Connected to                  \n",
      "==================================================================================================\n",
      " input_1 (InputLayer)        [(None, 6615, 100, 1)]       0         []                            \n",
      "                                                                                                  \n",
      " input_2 (InputLayer)        [(None, 6615, 100, 1)]       0         []                            \n",
      "                                                                                                  \n",
      " conv2d (Conv2D)             (None, 6571, 91, 32)         14432     ['input_1[0][0]']             \n",
      "                                                                                                  \n",
      " conv2d_2 (Conv2D)           (None, 6571, 91, 32)         14432     ['input_2[0][0]']             \n",
      "                                                                                                  \n",
      " max_pooling2d (MaxPooling2  (None, 3285, 45, 32)         0         ['conv2d[0][0]']              \n",
      " D)                                                                                               \n",
      "                                                                                                  \n",
      " max_pooling2d_2 (MaxPoolin  (None, 3285, 45, 32)         0         ['conv2d_2[0][0]']            \n",
      " g2D)                                                                                             \n",
      "                                                                                                  \n",
      " batch_normalization (Batch  (None, 3285, 45, 32)         128       ['max_pooling2d[0][0]']       \n",
      " Normalization)                                                                                   \n",
      "                                                                                                  \n",
      " batch_normalization_2 (Bat  (None, 3285, 45, 32)         128       ['max_pooling2d_2[0][0]']     \n",
      " chNormalization)                                                                                 \n",
      "                                                                                                  \n",
      " conv2d_1 (Conv2D)           (None, 3241, 36, 64)         921664    ['batch_normalization[0][0]'] \n",
      "                                                                                                  \n",
      " conv2d_3 (Conv2D)           (None, 3241, 36, 64)         921664    ['batch_normalization_2[0][0]'\n",
      "                                                                    ]                             \n",
      "                                                                                                  \n",
      " max_pooling2d_1 (MaxPoolin  (None, 1620, 17, 64)         0         ['conv2d_1[0][0]']            \n",
      " g2D)                                                                                             \n",
      "                                                                                                  \n",
      " max_pooling2d_3 (MaxPoolin  (None, 1620, 17, 64)         0         ['conv2d_3[0][0]']            \n",
      " g2D)                                                                                             \n",
      "                                                                                                  \n",
      " batch_normalization_1 (Bat  (None, 1620, 17, 64)         256       ['max_pooling2d_1[0][0]']     \n",
      " chNormalization)                                                                                 \n",
      "                                                                                                  \n",
      " batch_normalization_3 (Bat  (None, 1620, 17, 64)         256       ['max_pooling2d_3[0][0]']     \n",
      " chNormalization)                                                                                 \n",
      "                                                                                                  \n",
      " flatten (Flatten)           (None, 1762560)              0         ['batch_normalization_1[0][0]'\n",
      "                                                                    ]                             \n",
      "                                                                                                  \n",
      " flatten_1 (Flatten)         (None, 1762560)              0         ['batch_normalization_3[0][0]'\n",
      "                                                                    ]                             \n",
      "                                                                                                  \n",
      " concatenate (Concatenate)   (None, 3525120)              0         ['flatten[0][0]',             \n",
      "                                                                     'flatten_1[0][0]']           \n",
      "                                                                                                  \n",
      " dense (Dense)               (None, 64)                   2256077   ['concatenate[0][0]']         \n",
      "                                                          44                                      \n",
      "                                                                                                  \n",
      " batch_normalization_4 (Bat  (None, 64)                   256       ['dense[0][0]']               \n",
      " chNormalization)                                                                                 \n",
      "                                                                                                  \n",
      " dense_1 (Dense)             (None, 16)                   1040      ['batch_normalization_4[0][0]'\n",
      "                                                                    ]                             \n",
      "                                                                                                  \n",
      " batch_normalization_5 (Bat  (None, 16)                   64        ['dense_1[0][0]']             \n",
      " chNormalization)                                                                                 \n",
      "                                                                                                  \n",
      " dense_2 (Dense)             (None, 1)                    17        ['batch_normalization_5[0][0]'\n",
      "                                                                    ]                             \n",
      "                                                                                                  \n",
      "==================================================================================================\n",
      "Total params: 227482081 (867.78 MB)\n",
      "Trainable params: 227481537 (867.77 MB)\n",
      "Non-trainable params: 544 (2.12 KB)\n",
      "__________________________________________________________________________________________________\n"
     ]
    }
   ],
   "source": [
    "### 2D WAVEFORM PARALLEL CONVOLUTION MODEL\n",
    "\n",
    "def create_model_2(resize_shape):\n",
    "    # Mid and side inputs\n",
    "    input_mid = Input(shape = resize_shape)\n",
    "    input_side = Input(shape = resize_shape)\n",
    "\n",
    "    # Convolutional layers for sequence 1\n",
    "    conv_mid = Conv2D(32, (45, 10), activation='relu')(input_mid)\n",
    "    conv_mid = MaxPooling2D(3, 2)(conv_mid)\n",
    "    conv_mid = BatchNorm()(conv_mid)\n",
    "    conv_mid = Conv2D(64, (45, 10), activation='relu')(conv_mid)\n",
    "    conv_mid = MaxPooling2D(3, 2)(conv_mid)\n",
    "    conv_mid = BatchNorm()(conv_mid)\n",
    "    conv_mid = Flatten()(conv_mid)\n",
    "\n",
    "    # Convolutional layers for sequence 2\n",
    "    conv_side = Conv2D(32, (45, 10), activation='relu')(input_side)\n",
    "    conv_side = MaxPooling2D(3, 2)(conv_side)\n",
    "    conv_side = BatchNorm()(conv_side)\n",
    "    conv_side = Conv2D(64, (45, 10), activation='relu')(conv_side)\n",
    "    conv_side = MaxPooling2D(3, 2)(conv_side)\n",
    "    conv_side = BatchNorm()(conv_side)\n",
    "    conv_side = Flatten()(conv_side)\n",
    "\n",
    "    # Concatenate the representations of both sequences\n",
    "    combined = Concatenate()([conv_mid, conv_side])\n",
    "\n",
    "    # Fully connected -> output\n",
    "    combined = Dense(64, activation='relu')(combined)\n",
    "    combined = BatchNorm()(combined)\n",
    "    combined = Dense(16, activation='relu')(combined)\n",
    "    combined = BatchNorm()(combined)\n",
    "    prediction = Dense(1, activation='sigmoid')(combined)\n",
    "\n",
    "    # Create the model with two inputs and one output\n",
    "    model = Model(inputs=[input_mid, input_side], outputs=prediction)\n",
    "\n",
    "    return model\n",
    "\n",
    "# Create model\n",
    "# Shape is one (6615, 200) or one 30 sec window split into 200 windows\n",
    "# factors are 3,3,3,5,7,7 and 2,2,2,5,5\n",
    "model_2D_wave = create_model_2((6615, 100, 1))\n",
    "\n",
    "# Compile the model for regression\n",
    "opt = Adam(learning_rate=0.01)\n",
    "model_2D_wave.compile(optimizer=opt, loss='mean_squared_error', metrics=['mean_absolute_error'])\n",
    "\n",
    "# Print a summary of the model architecture\n",
    "model_2D_wave.summary()"
   ]
  },
  {
   "cell_type": "markdown",
   "id": "076085ba",
   "metadata": {
    "id": "076085ba"
   },
   "source": [
    "# Train the model"
   ]
  },
  {
   "cell_type": "code",
   "execution_count": 6,
   "id": "487b7c54",
   "metadata": {
    "id": "487b7c54"
   },
   "outputs": [
    {
     "name": "stdout",
     "output_type": "stream",
     "text": [
      "Epoch 1/20\n"
     ]
    },
    {
     "name": "stderr",
     "output_type": "stream",
     "text": [
      "2023-08-05 11:24:00.854713: I tensorflow/core/grappler/optimizers/custom_graph_optimizer_registry.cc:114] Plugin optimizer for device_type GPU is enabled.\n"
     ]
    },
    {
     "name": "stdout",
     "output_type": "stream",
     "text": [
      "130/130 [==============================] - ETA: 0s - loss: 0.0527 - mean_absolute_error: 0.1892"
     ]
    },
    {
     "name": "stderr",
     "output_type": "stream",
     "text": [
      "2023-08-05 11:29:17.692282: I tensorflow/core/grappler/optimizers/custom_graph_optimizer_registry.cc:114] Plugin optimizer for device_type GPU is enabled.\n"
     ]
    },
    {
     "name": "stdout",
     "output_type": "stream",
     "text": [
      "\n",
      "Epoch 1: val_loss improved from inf to 0.37326, saving model to 2DWav_wBest.hdf5\n",
      "130/130 [==============================] - 341s 3s/step - loss: 0.0527 - mean_absolute_error: 0.1892 - val_loss: 0.3733 - val_mean_absolute_error: 0.5748\n",
      "Epoch 2/20\n",
      "130/130 [==============================] - ETA: 0s - loss: 0.0440 - mean_absolute_error: 0.1758\n",
      "Epoch 2: val_loss improved from 0.37326 to 0.14717, saving model to 2DWav_wBest.hdf5\n",
      "130/130 [==============================] - 332s 3s/step - loss: 0.0440 - mean_absolute_error: 0.1758 - val_loss: 0.1472 - val_mean_absolute_error: 0.3264\n",
      "Epoch 3/20\n",
      "130/130 [==============================] - ETA: 0s - loss: 0.0428 - mean_absolute_error: 0.1718 \n",
      "Epoch 3: val_loss did not improve from 0.14717\n",
      "130/130 [==============================] - 3248s 25s/step - loss: 0.0428 - mean_absolute_error: 0.1718 - val_loss: 0.3711 - val_mean_absolute_error: 0.5731\n",
      "Epoch 4/20\n",
      "130/130 [==============================] - ETA: 0s - loss: 0.0437 - mean_absolute_error: 0.1752\n",
      "Epoch 4: val_loss improved from 0.14717 to 0.14558, saving model to 2DWav_wBest.hdf5\n",
      "130/130 [==============================] - 388s 3s/step - loss: 0.0437 - mean_absolute_error: 0.1752 - val_loss: 0.1456 - val_mean_absolute_error: 0.3253\n",
      "Epoch 5/20\n",
      "130/130 [==============================] - ETA: 0s - loss: 0.0431 - mean_absolute_error: 0.1745\n",
      "Epoch 5: val_loss improved from 0.14558 to 0.13255, saving model to 2DWav_wBest.hdf5\n",
      "130/130 [==============================] - 333s 3s/step - loss: 0.0431 - mean_absolute_error: 0.1745 - val_loss: 0.1326 - val_mean_absolute_error: 0.3011\n",
      "Epoch 6/20\n",
      "130/130 [==============================] - ETA: 0s - loss: 0.0411 - mean_absolute_error: 0.1683\n",
      "Epoch 6: val_loss improved from 0.13255 to 0.04080, saving model to 2DWav_wBest.hdf5\n",
      "130/130 [==============================] - 334s 3s/step - loss: 0.0411 - mean_absolute_error: 0.1683 - val_loss: 0.0408 - val_mean_absolute_error: 0.1623\n",
      "Epoch 7/20\n",
      "130/130 [==============================] - ETA: 0s - loss: 0.0401 - mean_absolute_error: 0.1673\n",
      "Epoch 7: val_loss did not improve from 0.04080\n",
      "130/130 [==============================] - 332s 3s/step - loss: 0.0401 - mean_absolute_error: 0.1673 - val_loss: 0.0465 - val_mean_absolute_error: 0.1725\n",
      "Epoch 8/20\n",
      "130/130 [==============================] - ETA: 0s - loss: 0.0395 - mean_absolute_error: 0.1649\n",
      "Epoch 8: val_loss improved from 0.04080 to 0.04007, saving model to 2DWav_wBest.hdf5\n",
      "130/130 [==============================] - 332s 3s/step - loss: 0.0395 - mean_absolute_error: 0.1649 - val_loss: 0.0401 - val_mean_absolute_error: 0.1689\n",
      "Epoch 9/20\n",
      "130/130 [==============================] - ETA: 0s - loss: 0.0386 - mean_absolute_error: 0.1631\n",
      "Epoch 9: val_loss did not improve from 0.04007\n",
      "130/130 [==============================] - 333s 3s/step - loss: 0.0386 - mean_absolute_error: 0.1631 - val_loss: 0.2798 - val_mean_absolute_error: 0.4915\n",
      "Epoch 10/20\n",
      "130/130 [==============================] - ETA: 0s - loss: 0.0386 - mean_absolute_error: 0.1655\n",
      "Epoch 10: val_loss did not improve from 0.04007\n",
      "130/130 [==============================] - 331s 3s/step - loss: 0.0386 - mean_absolute_error: 0.1655 - val_loss: 0.0456 - val_mean_absolute_error: 0.1680\n",
      "Epoch 11/20\n",
      "130/130 [==============================] - ETA: 0s - loss: 0.0379 - mean_absolute_error: 0.1620\n",
      "Epoch 11: val_loss did not improve from 0.04007\n",
      "130/130 [==============================] - 332s 3s/step - loss: 0.0379 - mean_absolute_error: 0.1620 - val_loss: 0.2224 - val_mean_absolute_error: 0.4238\n",
      "Epoch 12/20\n",
      "130/130 [==============================] - ETA: 0s - loss: 0.0364 - mean_absolute_error: 0.1585\n",
      "Epoch 12: val_loss did not improve from 0.04007\n",
      "130/130 [==============================] - 332s 3s/step - loss: 0.0364 - mean_absolute_error: 0.1585 - val_loss: 0.2229 - val_mean_absolute_error: 0.4245\n",
      "Epoch 13/20\n",
      "130/130 [==============================] - ETA: 0s - loss: 0.0357 - mean_absolute_error: 0.1556\n",
      "Epoch 13: val_loss did not improve from 0.04007\n",
      "130/130 [==============================] - 333s 3s/step - loss: 0.0357 - mean_absolute_error: 0.1556 - val_loss: 0.1904 - val_mean_absolute_error: 0.3913\n",
      "Epoch 14/20\n",
      "130/130 [==============================] - ETA: 0s - loss: 0.0367 - mean_absolute_error: 0.1582\n",
      "Epoch 14: val_loss did not improve from 0.04007\n",
      "130/130 [==============================] - 477s 4s/step - loss: 0.0367 - mean_absolute_error: 0.1582 - val_loss: 0.1451 - val_mean_absolute_error: 0.3256\n",
      "Epoch 15/20\n",
      "130/130 [==============================] - ETA: 0s - loss: 0.0344 - mean_absolute_error: 0.1509\n",
      "Epoch 15: val_loss improved from 0.04007 to 0.03651, saving model to 2DWav_wBest.hdf5\n",
      "130/130 [==============================] - 333s 3s/step - loss: 0.0344 - mean_absolute_error: 0.1509 - val_loss: 0.0365 - val_mean_absolute_error: 0.1584\n",
      "Epoch 16/20\n",
      "130/130 [==============================] - ETA: 0s - loss: 0.0350 - mean_absolute_error: 0.1544\n",
      "Epoch 16: val_loss did not improve from 0.03651\n",
      "130/130 [==============================] - 332s 3s/step - loss: 0.0350 - mean_absolute_error: 0.1544 - val_loss: 0.0443 - val_mean_absolute_error: 0.1707\n",
      "Epoch 17/20\n",
      "130/130 [==============================] - ETA: 0s - loss: 0.0341 - mean_absolute_error: 0.1484\n",
      "Epoch 17: val_loss did not improve from 0.03651\n",
      "130/130 [==============================] - 331s 3s/step - loss: 0.0341 - mean_absolute_error: 0.1484 - val_loss: 0.0926 - val_mean_absolute_error: 0.2461\n",
      "Epoch 18/20\n",
      "130/130 [==============================] - ETA: 0s - loss: 0.0338 - mean_absolute_error: 0.1485\n",
      "Epoch 18: val_loss did not improve from 0.03651\n",
      "130/130 [==============================] - 332s 3s/step - loss: 0.0338 - mean_absolute_error: 0.1485 - val_loss: 0.3622 - val_mean_absolute_error: 0.5658\n",
      "Epoch 19/20\n",
      "130/130 [==============================] - ETA: 0s - loss: 0.0325 - mean_absolute_error: 0.1465\n",
      "Epoch 19: val_loss did not improve from 0.03651\n",
      "130/130 [==============================] - 331s 3s/step - loss: 0.0325 - mean_absolute_error: 0.1465 - val_loss: 0.0967 - val_mean_absolute_error: 0.2526\n",
      "Epoch 20/20\n",
      "130/130 [==============================] - ETA: 0s - loss: 0.0308 - mean_absolute_error: 0.1396\n",
      "Epoch 20: val_loss did not improve from 0.03651\n",
      "130/130 [==============================] - 329s 3s/step - loss: 0.0308 - mean_absolute_error: 0.1396 - val_loss: 0.2202 - val_mean_absolute_error: 0.4215\n"
     ]
    }
   ],
   "source": [
    "# ((520, 1323000, 2), (130, 1323000, 2), (520,), (130,))\n",
    "\n",
    "def train_network(model):\n",
    "    checkpoint = ModelCheckpoint(\n",
    "        #\"weights2-improvement-{epoch:02d}-{loss:.4f}-bigger.hdf5\",\n",
    "        \"2DWav_wBest.hdf5\",\n",
    "        monitor='val_loss',\n",
    "        verbose=1,\n",
    "        save_weights_only=True,\n",
    "        save_best_only=True,\n",
    "        mode='min'\n",
    "    )\n",
    "\n",
    "    callbacks_list = [checkpoint]\n",
    "\n",
    "    history = model.fit(x=[X_train[:,:,0].reshape((520, 6615, 100)), X_train[:,:,1].reshape((520, 6615, 100))], y=y_train, batch_size=4, epochs=20, validation_data = ([X_test[:,:,0].reshape((130, 6615, 100)),X_test[:,:,1].reshape((130, 6615, 100))], y_test), callbacks = callbacks_list)\n",
    "    # model.save_weights('drive/MyDrive/Spotify feature classification/Code/Data and Weights/2DWav_wCurrent.h5')\n",
    "    model.save_weights('2DWav_wCurrent.h5')\n",
    "\n",
    "    # file_path = '2DWav_wBest.hdf5'\n",
    "    # destination_path = 'drive/MyDrive/Spotify feature classification/Code/Data and Weights/'\n",
    "    # shutil.copyfile(file_path, destination_path + '2DWav_wBest.hdf5')\n",
    "\n",
    "    return history\n",
    "\n",
    "# (6615, 100)\n",
    "#X_2D_mid_train = X_train[:,:,0].reshape((520, 6615, 100))\n",
    "#X_2D_side_train = X_train[:,:,1].reshape((520, 6615, 100))\n",
    "#X_2D_mid_test = X_test[:,:,0].reshape((130, 6615, 100))\n",
    "#X_2D_side_test = X_test[:,:,1].reshape((130, 6615, 100))\n",
    "\n",
    "hist = train_network(model_2D_wave)"
   ]
  },
  {
   "cell_type": "code",
   "execution_count": 9,
   "id": "e6217796-9138-4f6c-b2e7-44d346a1d85f",
   "metadata": {},
   "outputs": [
    {
     "data": {
      "text/plain": [
       "[<matplotlib.lines.Line2D at 0x291f2c1c0>]"
      ]
     },
     "execution_count": 9,
     "metadata": {},
     "output_type": "execute_result"
    },
    {
     "data": {
      "image/png": "[encoded data removed]",
      "text/plain": [
       "<Figure size 640x480 with 1 Axes>"
      ]
     },
     "metadata": {},
     "output_type": "display_data"
    }
   ],
   "source": [
    "import matplotlib.pyplot as plt\n",
    "\n",
    "plt.title(\"Training loss vs testing loss\")\n",
    "plt.plot(hist.history['loss'])\n",
    "plt.plot(hist.history['val_loss'])"
   ]
  },
  {
   "cell_type": "markdown",
   "id": "9fcb47d4",
   "metadata": {
    "id": "9fcb47d4"
   },
   "source": [
    "# Test the model and plot results\n",
    "Accuracy is measured in mean error, standard deviation, and correlation"
   ]
  },
  {
   "cell_type": "code",
   "execution_count": 6,
   "id": "2f6a6bb3",
   "metadata": {
    "id": "2f6a6bb3"
   },
   "outputs": [],
   "source": [
    "#model_2D_wave = create_model_2((6615, 100, 1))\n",
    "model_2D_wave.load_weights('2DWav_wCurrent.h5')\n",
    "\n",
    "def correlation_coefficient(X, Y):\n",
    "    # Check if both arrays have the same length\n",
    "    if len(X) != len(Y):\n",
    "        raise ValueError(\"Both arrays must have the same length.\")\n",
    "\n",
    "    n = len(X)\n",
    "\n",
    "    # Calculate the means of both arrays\n",
    "    mean_X = np.mean(X)\n",
    "    mean_Y = np.mean(Y)\n",
    "\n",
    "    # Calculate the numerator of the correlation coefficient\n",
    "    numerator = np.sum((X - mean_X) * (Y - mean_Y))\n",
    "\n",
    "    # Calculate the denominator of the correlation coefficient\n",
    "    denominator = np.sqrt(np.sum((X - mean_X)**2) * np.sum((Y - mean_Y)**2))\n",
    "\n",
    "    # Calculate the correlation coefficient (r)\n",
    "    r = numerator / denominator\n",
    "\n",
    "    return r"
   ]
  },
  {
   "cell_type": "code",
   "execution_count": 10,
   "id": "CieNOj0iCbx9",
   "metadata": {
    "id": "CieNOj0iCbx9"
   },
   "outputs": [
    {
     "name": "stdout",
     "output_type": "stream",
     "text": [
      "17/17 [==============================] - 83s 5s/step\n",
      "5/5 [==============================] - 20s 5s/step\n",
      "Average training error (absolute): 0.13323120025885793\n",
      "Average testing error (absolute): 0.15839107714772224\n",
      "\n",
      "Standard deviation of train error: 0.2803056387072656\n",
      "Standard deviation of test error: 0.2967463055539454\n",
      "\n",
      "Average training error (square): 0.027610549068504547\n",
      "Average testing error (square): 0.036514355341235205\n",
      "\n",
      "0.2153846153846154\n",
      "0.3769230769230769\n",
      "\n",
      "Correlation coefficient train: 0.652510683472066\n",
      "Correlation coefficient test: 0.4899000527580943\n"
     ]
    }
   ],
   "source": [
    "# X_2D_mid_train = X_train[:,:,0].reshape((520, 6615, 100))\n",
    "# X_2D_side_train = X_train[:,:,1].reshape((520, 6615, 100))\n",
    "# X_2D_mid_test = X_test[:,:,0].reshape((130, 6615, 100))\n",
    "# X_2D_side_test = X_test[:,:,1].reshape((130, 6615, 100))\n",
    "\n",
    "train_pred = model_2D_wave.predict([X_train[:,:,0].reshape((520, 6615, 100)), X_train[:,:,1].reshape((520, 6615, 100))])\n",
    "test_pred = model_2D_wave.predict([X_test[:,:,0].reshape((130, 6615, 100)), X_test[:,:,1].reshape((130, 6615, 100))])\n",
    "y_train = y_train.reshape(-1, 1)\n",
    "y_test = y_test.reshape(-1, 1)\n",
    "\n",
    "train_error = np.sum(np.abs(train_pred - y_train))/len(y_train)\n",
    "test_error = np.sum(np.abs(test_pred - y_test))/len(y_test)\n",
    "print(\"Average training error (absolute):\", train_error)\n",
    "print(\"Average testing error (absolute):\", test_error)\n",
    "print()\n",
    "print(\"Standard deviation of train error:\", np.sqrt(np.sum(np.abs(np.abs(train_pred - y_train)-train_error))/len(y_train)))\n",
    "print(\"Standard deviation of test error:\", np.sqrt(np.sum(np.abs(np.abs(test_pred - y_test)-test_error))/len(y_test)))\n",
    "print()\n",
    "train_error = np.sum(np.square(train_pred - y_train))/len(y_train)\n",
    "test_error = np.sum(np.square(test_pred - y_test))/len(y_test)\n",
    "print(\"Average training error (square):\", train_error)\n",
    "print(\"Average testing error (square):\", test_error)\n",
    "print()\n",
    "### Chance to be significantly off\n",
    "print(len(y_train[np.abs(train_pred - y_train) > 0.2]) / len(y_train))\n",
    "print(len(y_test[np.abs(test_pred - y_test) > 0.2]) / len(y_test))\n",
    "print()\n",
    "result = correlation_coefficient(train_pred, y_train.reshape(-1, 1))\n",
    "print(\"Correlation coefficient train:\", result)\n",
    "result = correlation_coefficient(test_pred, y_test.reshape(-1, 1))\n",
    "print(\"Correlation coefficient test:\", result)"
   ]
  },
  {
   "cell_type": "markdown",
   "id": "JTO-rSsDCnak",
   "metadata": {
    "id": "JTO-rSsDCnak"
   },
   "source": [
    "### Best testing iteration"
   ]
  },
  {
   "cell_type": "code",
   "execution_count": 11,
   "id": "iNQ9KlAjCjsq",
   "metadata": {
    "id": "iNQ9KlAjCjsq"
   },
   "outputs": [
    {
     "name": "stdout",
     "output_type": "stream",
     "text": [
      "17/17 [==============================] - 84s 5s/step\n",
      "5/5 [==============================] - 20s 5s/step\n",
      "\n",
      "Average training error (absolute): 0.13309815611686843\n",
      "Average testing error (absolute): 0.15839107714772224\n",
      "\n",
      "Standard deviation of train error: 0.28050075501695004\n",
      "Standard deviation of test error: 0.2967463055539454\n",
      "\n",
      "Average training error (square): 0.0275990962223731\n",
      "Average testing error (square): 0.036514355341235205\n",
      "\n",
      "0.2153846153846154 % training are significantly off.\n",
      "0.3769230769230769 % testing are significantly off.\n",
      "\n",
      "Correlation coefficient train: 0.6524692902253941\n",
      "Correlation coefficient test: 0.4899000527580943\n"
     ]
    }
   ],
   "source": [
    "model_2D_wave.load_weights('2DWav_wBest.hdf5')\n",
    "\n",
    "train_pred = model_2D_wave.predict([X_train[:,:,0].reshape((520, 6615, 100)), X_train[:,:,1].reshape((520, 6615, 100))])\n",
    "test_pred = model_2D_wave.predict([X_test[:,:,0].reshape((130, 6615, 100)), X_test[:,:,1].reshape((130, 6615, 100))])\n",
    "print()\n",
    "train_error = np.sum(np.abs(train_pred - y_train))/len(y_train)\n",
    "test_error = np.sum(np.abs(test_pred - y_test))/len(y_test)\n",
    "print(\"Average training error (absolute):\", train_error)\n",
    "print(\"Average testing error (absolute):\", test_error)\n",
    "print()\n",
    "print(\"Standard deviation of train error:\", np.sqrt(np.sum(np.abs(np.abs(train_pred - y_train)-train_error))/len(y_train)))\n",
    "print(\"Standard deviation of test error:\", np.sqrt(np.sum(np.abs(np.abs(test_pred - y_test)-test_error))/len(y_test)))\n",
    "print()\n",
    "train_error = np.sum(np.square(train_pred - y_train))/len(y_train)\n",
    "test_error = np.sum(np.square(test_pred - y_test))/len(y_test)\n",
    "print(\"Average training error (square):\", train_error)\n",
    "print(\"Average testing error (square):\", test_error)\n",
    "print()\n",
    "print(len(y_train[np.abs(train_pred - y_train) > 0.2]) / len(y_train), \"% training are significantly off.\")\n",
    "print(len(y_test[np.abs(test_pred - y_test) > 0.2]) / len(y_test), \"% testing are significantly off.\")\n",
    "print()\n",
    "result = correlation_coefficient(train_pred, y_train.reshape(-1, 1))\n",
    "print(\"Correlation coefficient train:\", result)\n",
    "result = correlation_coefficient(test_pred, y_test.reshape(-1, 1))\n",
    "print(\"Correlation coefficient test:\", result)"
   ]
  },
  {
   "cell_type": "code",
   "execution_count": null,
   "id": "qxp1fFJpDYkP",
   "metadata": {
    "id": "qxp1fFJpDYkP"
   },
   "outputs": [],
   "source": []
  }
 ],
 "metadata": {
  "accelerator": "GPU",
  "colab": {
   "gpuType": "V100",
   "provenance": []
  },
  "kernelspec": {
   "display_name": "Python 3 (ipykernel)",
   "language": "python",
   "name": "python3"
  },
  "language_info": {
   "codemirror_mode": {
    "name": "ipython",
    "version": 3
   },
   "file_extension": ".py",
   "mimetype": "text/x-python",
   "name": "python",
   "nbconvert_exporter": "python",
   "pygments_lexer": "ipython3",
   "version": "3.10.12"
  }
 },
 "nbformat": 4,
 "nbformat_minor": 5
}
