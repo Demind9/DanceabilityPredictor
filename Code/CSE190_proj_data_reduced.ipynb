{
  "cells": [
    {
      "cell_type": "code",
      "execution_count": null,
      "id": "e0247101",
      "metadata": {
        "id": "e0247101"
      },
      "outputs": [],
      "source": [
        "import numpy as np\n",
        "import pandas as pd\n",
        "import seaborn as sns\n",
        "\n",
        "import argparse\n",
        "import logging\n",
        "\n",
        "import spotipy\n",
        "from spotipy.oauth2 import SpotifyClientCredentials\n",
        "from spotipy.oauth2 import SpotifyOAuth\n",
        "\n",
        "from sklearn.preprocessing import StandardScaler\n",
        "from sklearn.pipeline import Pipeline\n",
        "from sklearn.cluster import KMeans\n",
        "from sklearn.decomposition import PCA\n",
        "from sklearn.model_selection import GridSearchCV\n",
        "\n",
        "sp = spotipy.Spotify(auth_manager=SpotifyClientCredentials(client_id=\"e017e289ac5444588b8048a596d10c57\",\n",
        "                                                           client_secret=\"9ee65b1a55b24c8eaf1e099c1544b724\"))\n",
        "\n",
        "import keras\n",
        "import librosa\n",
        "import music21\n",
        "\n",
        "import matplotlib.pyplot as plt\n",
        "\n",
        "from pathlib import Path\n",
        "import IPython.display as ipd\n",
        "from scipy.io import wavfile"
      ]
    },
    {
      "cell_type": "code",
      "execution_count": null,
      "id": "abcc265e",
      "metadata": {
        "id": "abcc265e"
      },
      "outputs": [],
      "source": [
        "def json_extract(obj, key):\n",
        "    \"\"\"Recursively fetch values from nested JSON.\"\"\"\n",
        "    arr = []\n",
        "\n",
        "    def extract(obj, arr, key):\n",
        "        \"\"\"Recursively search for values of key in JSON tree.\"\"\"\n",
        "        if isinstance(obj, dict):\n",
        "            for k, v in obj.items():\n",
        "                if k == key:\n",
        "                    arr.append(v)\n",
        "                elif isinstance(v, (dict, list)):\n",
        "                    extract(v, arr, key)\n",
        "        elif isinstance(obj, list):\n",
        "            for item in obj:\n",
        "                extract(item, arr, key)\n",
        "        return arr\n",
        "\n",
        "    values = extract(obj, arr, key)\n",
        "    return values"
      ]
    },
    {
      "cell_type": "code",
      "execution_count": null,
      "id": "88cbac58",
      "metadata": {
        "id": "88cbac58"
      },
      "outputs": [],
      "source": [
        "# Helper functions to reduce code\n",
        "def get_uri_df(playlist, offset, fields=['items.track.uri']):\n",
        "    return pd.Series(json_extract(sp.playlist_tracks(playlist, fields=fields, offset=offset), 'uri'))\n",
        "\n",
        "def clean_uris(uris):\n",
        "    return uris[uris.str.contains('spotify:track:*')]\n",
        "\n",
        "def get_feat_df(tracks, offset):\n",
        "    data_batch = sp.audio_features(tracks=tracks[offset:offset+100])\n",
        "    # return pd.DataFrame(data_batch).drop(columns=['type', 'id', 'uri', 'track_href', 'analysis_url', 'key', 'duration_ms', 'time_signature'])\n",
        "    return pd.DataFrame(data_batch)\n",
        "\n",
        "def get_X_pca(pipeline, features_dict, genre):\n",
        "    '''Helper function to transform X'''\n",
        "    X = features_dict[genre].to_numpy()\n",
        "    X_tr = pipeline['scaler'].transform(X)\n",
        "    return pipeline['pca'].transform(X_tr)"
      ]
    },
    {
      "cell_type": "markdown",
      "id": "2ceebcfe",
      "metadata": {
        "id": "2ceebcfe"
      },
      "source": [
        "## Grab spotify API data"
      ]
    },
    {
      "cell_type": "code",
      "execution_count": null,
      "id": "f48ecffc",
      "metadata": {
        "id": "f48ecffc"
      },
      "outputs": [],
      "source": [
        "JAAR_LIST  = 'spotify:playlist:1nfPwrBDuzogouQHUSRNJU'    # pull from a playlist of Jaar's included works\n",
        "\n",
        "uri_all = []\n",
        "uri_all.append(get_uri_df(JAAR_LIST, offset=0))\n",
        "# for i in range(0, 100, 10):\n",
        "#     uri_batch = get_uri_df(JAAR_LIST, offset=i)\n",
        "#     uri_all.append(uri_batch)"
      ]
    },
    {
      "cell_type": "code",
      "execution_count": null,
      "id": "c910de8b",
      "metadata": {
        "id": "c910de8b",
        "outputId": "afa317bd-5aa2-4139-a880-391ac3ac9039"
      },
      "outputs": [
        {
          "data": {
            "text/plain": [
              "Index(['danceability', 'energy', 'key', 'loudness', 'mode', 'speechiness',\n",
              "       'acousticness', 'instrumentalness', 'liveness', 'valence', 'tempo',\n",
              "       'type', 'id', 'uri', 'track_href', 'analysis_url', 'duration_ms',\n",
              "       'time_signature'],\n",
              "      dtype='object')"
            ]
          },
          "execution_count": 5,
          "metadata": {},
          "output_type": "execute_result"
        }
      ],
      "source": [
        "tracks = pd.concat(uri_all).reset_index(drop=True).dropna()\n",
        "tracks = tracks[tracks.str.contains('spotify:track:*')]\n",
        "\n",
        "track_features_all = []\n",
        "for i in range(0, tracks.size, 1):\n",
        "    data_batch = sp.audio_features(tracks=tracks[i:i+1])\n",
        "    df_track_features_batch = pd.DataFrame(data_batch)#.drop(columns=['type', 'id', 'uri', 'track_href', 'analysis_url', 'key', 'duration_ms', 'time_signature'])\n",
        "    track_features_all.append(df_track_features_batch)\n",
        "\n",
        "# Finalized, cleaned data for 10K songs\n",
        "audio_features = pd.concat(track_features_all).reset_index(drop=True)\n",
        "# audio_features.tail(10)\n",
        "\n",
        "audio_features.columns\n",
        "# tracks.size"
      ]
    },
    {
      "cell_type": "code",
      "execution_count": null,
      "id": "545f11ea",
      "metadata": {
        "id": "545f11ea",
        "outputId": "b8524e9a-9498-4879-b04e-e40a7486e407"
      },
      "outputs": [
        {
          "data": {
            "text/html": [
              "<div>\n",
              "<style scoped>\n",
              "    .dataframe tbody tr th:only-of-type {\n",
              "        vertical-align: middle;\n",
              "    }\n",
              "\n",
              "    .dataframe tbody tr th {\n",
              "        vertical-align: top;\n",
              "    }\n",
              "\n",
              "    .dataframe thead th {\n",
              "        text-align: right;\n",
              "    }\n",
              "</style>\n",
              "<table border=\"1\" class=\"dataframe\">\n",
              "  <thead>\n",
              "    <tr style=\"text-align: right;\">\n",
              "      <th></th>\n",
              "      <th>danceability</th>\n",
              "      <th>energy</th>\n",
              "      <th>key</th>\n",
              "      <th>loudness</th>\n",
              "      <th>mode</th>\n",
              "      <th>speechiness</th>\n",
              "      <th>acousticness</th>\n",
              "      <th>instrumentalness</th>\n",
              "      <th>liveness</th>\n",
              "      <th>valence</th>\n",
              "      <th>tempo</th>\n",
              "      <th>id</th>\n",
              "      <th>duration_ms</th>\n",
              "      <th>time_signature</th>\n",
              "    </tr>\n",
              "  </thead>\n",
              "  <tbody>\n",
              "    <tr>\n",
              "      <th>0</th>\n",
              "      <td>0.416</td>\n",
              "      <td>0.323</td>\n",
              "      <td>0</td>\n",
              "      <td>-26.900</td>\n",
              "      <td>0</td>\n",
              "      <td>0.3160</td>\n",
              "      <td>0.831</td>\n",
              "      <td>0.00803</td>\n",
              "      <td>0.3560</td>\n",
              "      <td>0.2790</td>\n",
              "      <td>94.212</td>\n",
              "      <td>6wvihwMrXdqmkunqHro8gx</td>\n",
              "      <td>289054</td>\n",
              "      <td>3</td>\n",
              "    </tr>\n",
              "    <tr>\n",
              "      <th>1</th>\n",
              "      <td>0.616</td>\n",
              "      <td>0.152</td>\n",
              "      <td>0</td>\n",
              "      <td>-19.138</td>\n",
              "      <td>0</td>\n",
              "      <td>0.1980</td>\n",
              "      <td>0.807</td>\n",
              "      <td>0.76800</td>\n",
              "      <td>0.7440</td>\n",
              "      <td>0.0635</td>\n",
              "      <td>158.046</td>\n",
              "      <td>1Ui2wxssdwnfaZCwxxlW0J</td>\n",
              "      <td>202763</td>\n",
              "      <td>3</td>\n",
              "    </tr>\n",
              "    <tr>\n",
              "      <th>2</th>\n",
              "      <td>0.329</td>\n",
              "      <td>0.472</td>\n",
              "      <td>8</td>\n",
              "      <td>-20.199</td>\n",
              "      <td>1</td>\n",
              "      <td>0.0589</td>\n",
              "      <td>0.903</td>\n",
              "      <td>0.94300</td>\n",
              "      <td>0.1680</td>\n",
              "      <td>0.3360</td>\n",
              "      <td>79.390</td>\n",
              "      <td>3bbgUVYAfqPZdgQcptI9Sv</td>\n",
              "      <td>48488</td>\n",
              "      <td>5</td>\n",
              "    </tr>\n",
              "    <tr>\n",
              "      <th>3</th>\n",
              "      <td>0.741</td>\n",
              "      <td>0.202</td>\n",
              "      <td>4</td>\n",
              "      <td>-16.849</td>\n",
              "      <td>0</td>\n",
              "      <td>0.0466</td>\n",
              "      <td>0.871</td>\n",
              "      <td>0.62500</td>\n",
              "      <td>0.2660</td>\n",
              "      <td>0.2780</td>\n",
              "      <td>110.027</td>\n",
              "      <td>1db3rjzXv9NHjyyO6zVDSc</td>\n",
              "      <td>208425</td>\n",
              "      <td>4</td>\n",
              "    </tr>\n",
              "    <tr>\n",
              "      <th>4</th>\n",
              "      <td>0.836</td>\n",
              "      <td>0.379</td>\n",
              "      <td>7</td>\n",
              "      <td>-11.066</td>\n",
              "      <td>1</td>\n",
              "      <td>0.0605</td>\n",
              "      <td>0.148</td>\n",
              "      <td>0.88300</td>\n",
              "      <td>0.1020</td>\n",
              "      <td>0.3300</td>\n",
              "      <td>104.997</td>\n",
              "      <td>5fVxuymOckNzsc1LQCR72b</td>\n",
              "      <td>321791</td>\n",
              "      <td>4</td>\n",
              "    </tr>\n",
              "    <tr>\n",
              "      <th>...</th>\n",
              "      <td>...</td>\n",
              "      <td>...</td>\n",
              "      <td>...</td>\n",
              "      <td>...</td>\n",
              "      <td>...</td>\n",
              "      <td>...</td>\n",
              "      <td>...</td>\n",
              "      <td>...</td>\n",
              "      <td>...</td>\n",
              "      <td>...</td>\n",
              "      <td>...</td>\n",
              "      <td>...</td>\n",
              "      <td>...</td>\n",
              "      <td>...</td>\n",
              "    </tr>\n",
              "    <tr>\n",
              "      <th>61</th>\n",
              "      <td>0.666</td>\n",
              "      <td>0.446</td>\n",
              "      <td>1</td>\n",
              "      <td>-16.363</td>\n",
              "      <td>1</td>\n",
              "      <td>0.1160</td>\n",
              "      <td>0.145</td>\n",
              "      <td>0.81700</td>\n",
              "      <td>0.0816</td>\n",
              "      <td>0.8080</td>\n",
              "      <td>172.093</td>\n",
              "      <td>28tttimQIVzK8yZMb6XFG3</td>\n",
              "      <td>323500</td>\n",
              "      <td>4</td>\n",
              "    </tr>\n",
              "    <tr>\n",
              "      <th>62</th>\n",
              "      <td>0.389</td>\n",
              "      <td>0.337</td>\n",
              "      <td>0</td>\n",
              "      <td>-11.584</td>\n",
              "      <td>0</td>\n",
              "      <td>0.0751</td>\n",
              "      <td>0.473</td>\n",
              "      <td>0.85600</td>\n",
              "      <td>0.6140</td>\n",
              "      <td>0.0428</td>\n",
              "      <td>67.619</td>\n",
              "      <td>0NgggsA8qzWVITu4aFDWw7</td>\n",
              "      <td>975640</td>\n",
              "      <td>3</td>\n",
              "    </tr>\n",
              "    <tr>\n",
              "      <th>63</th>\n",
              "      <td>0.259</td>\n",
              "      <td>0.297</td>\n",
              "      <td>9</td>\n",
              "      <td>-10.531</td>\n",
              "      <td>0</td>\n",
              "      <td>0.0373</td>\n",
              "      <td>0.791</td>\n",
              "      <td>0.01940</td>\n",
              "      <td>0.1020</td>\n",
              "      <td>0.0416</td>\n",
              "      <td>98.057</td>\n",
              "      <td>3T0N9Bqvi4HtsMIv2rImfC</td>\n",
              "      <td>909037</td>\n",
              "      <td>5</td>\n",
              "    </tr>\n",
              "    <tr>\n",
              "      <th>64</th>\n",
              "      <td>0.227</td>\n",
              "      <td>0.421</td>\n",
              "      <td>10</td>\n",
              "      <td>-11.044</td>\n",
              "      <td>0</td>\n",
              "      <td>0.0588</td>\n",
              "      <td>0.672</td>\n",
              "      <td>0.08540</td>\n",
              "      <td>0.0973</td>\n",
              "      <td>0.0620</td>\n",
              "      <td>66.093</td>\n",
              "      <td>464vAL4t09lIqVFGCLmHU4</td>\n",
              "      <td>860160</td>\n",
              "      <td>4</td>\n",
              "    </tr>\n",
              "    <tr>\n",
              "      <th>65</th>\n",
              "      <td>0.477</td>\n",
              "      <td>0.334</td>\n",
              "      <td>2</td>\n",
              "      <td>-13.861</td>\n",
              "      <td>0</td>\n",
              "      <td>0.0487</td>\n",
              "      <td>0.866</td>\n",
              "      <td>0.59800</td>\n",
              "      <td>0.0792</td>\n",
              "      <td>0.0398</td>\n",
              "      <td>162.144</td>\n",
              "      <td>1YO9Kh0x4qxSqcQNFxepGX</td>\n",
              "      <td>775550</td>\n",
              "      <td>4</td>\n",
              "    </tr>\n",
              "  </tbody>\n",
              "</table>\n",
              "<p>66 rows × 14 columns</p>\n",
              "</div>"
            ],
            "text/plain": [
              "    danceability  energy  key  loudness  mode  speechiness  acousticness  \\\n",
              "0          0.416   0.323    0   -26.900     0       0.3160         0.831   \n",
              "1          0.616   0.152    0   -19.138     0       0.1980         0.807   \n",
              "2          0.329   0.472    8   -20.199     1       0.0589         0.903   \n",
              "3          0.741   0.202    4   -16.849     0       0.0466         0.871   \n",
              "4          0.836   0.379    7   -11.066     1       0.0605         0.148   \n",
              "..           ...     ...  ...       ...   ...          ...           ...   \n",
              "61         0.666   0.446    1   -16.363     1       0.1160         0.145   \n",
              "62         0.389   0.337    0   -11.584     0       0.0751         0.473   \n",
              "63         0.259   0.297    9   -10.531     0       0.0373         0.791   \n",
              "64         0.227   0.421   10   -11.044     0       0.0588         0.672   \n",
              "65         0.477   0.334    2   -13.861     0       0.0487         0.866   \n",
              "\n",
              "    instrumentalness  liveness  valence    tempo                      id  \\\n",
              "0            0.00803    0.3560   0.2790   94.212  6wvihwMrXdqmkunqHro8gx   \n",
              "1            0.76800    0.7440   0.0635  158.046  1Ui2wxssdwnfaZCwxxlW0J   \n",
              "2            0.94300    0.1680   0.3360   79.390  3bbgUVYAfqPZdgQcptI9Sv   \n",
              "3            0.62500    0.2660   0.2780  110.027  1db3rjzXv9NHjyyO6zVDSc   \n",
              "4            0.88300    0.1020   0.3300  104.997  5fVxuymOckNzsc1LQCR72b   \n",
              "..               ...       ...      ...      ...                     ...   \n",
              "61           0.81700    0.0816   0.8080  172.093  28tttimQIVzK8yZMb6XFG3   \n",
              "62           0.85600    0.6140   0.0428   67.619  0NgggsA8qzWVITu4aFDWw7   \n",
              "63           0.01940    0.1020   0.0416   98.057  3T0N9Bqvi4HtsMIv2rImfC   \n",
              "64           0.08540    0.0973   0.0620   66.093  464vAL4t09lIqVFGCLmHU4   \n",
              "65           0.59800    0.0792   0.0398  162.144  1YO9Kh0x4qxSqcQNFxepGX   \n",
              "\n",
              "    duration_ms  time_signature  \n",
              "0        289054               3  \n",
              "1        202763               3  \n",
              "2         48488               5  \n",
              "3        208425               4  \n",
              "4        321791               4  \n",
              "..          ...             ...  \n",
              "61       323500               4  \n",
              "62       975640               3  \n",
              "63       909037               5  \n",
              "64       860160               4  \n",
              "65       775550               4  \n",
              "\n",
              "[66 rows x 14 columns]"
            ]
          },
          "execution_count": 6,
          "metadata": {},
          "output_type": "execute_result"
        }
      ],
      "source": [
        "audio_features.drop(columns=['type', 'uri', 'track_href', 'analysis_url'])\n",
        "# time_signature, key/mode, id\n",
        "# audio_features_intro"
      ]
    },
    {
      "cell_type": "markdown",
      "id": "5fc6c78f",
      "metadata": {
        "id": "5fc6c78f"
      },
      "source": [
        "## Grab all of the corresponding audio files"
      ]
    },
    {
      "cell_type": "code",
      "execution_count": null,
      "id": "51901439",
      "metadata": {
        "id": "51901439",
        "outputId": "fa18d276-240e-4f11-b8f4-2d57097c51c1"
      },
      "outputs": [
        {
          "name": "stdout",
          "output_type": "stream",
          "text": [
            "\u001b[34m1-SpaceIsOnlyNoise(2011)\u001b[m\u001b[m \u001b[34m5-Cenizas(2020)\u001b[m\u001b[m          Pomegranates.jpg\r\n",
            "\u001b[34m2-Nymphs(2011-2015)\u001b[m\u001b[m      \u001b[34m6-Telas(2020)\u001b[m\u001b[m            Sirens.jpg\r\n",
            "\u001b[34m3-Pomegranates(2015)\u001b[m\u001b[m     Cenizas.jpg              Space Is Only Noise.jpg\r\n",
            "\u001b[34m4-Sirens(2016)\u001b[m\u001b[m           Nymphs.jpg               Telas.jpg\r\n"
          ]
        }
      ],
      "source": [
        "!ls 'JaarSongs'"
      ]
    },
    {
      "cell_type": "code",
      "execution_count": null,
      "id": "71dc9e41",
      "metadata": {
        "id": "71dc9e41",
        "outputId": "93c64227-66c6-4ace-8a74-6d4641fac852"
      },
      "outputs": [
        {
          "name": "stdout",
          "output_type": "stream",
          "text": [
            "Space Is Only Noise-001-Nicolas Jaar-Être 1.wav\n",
            "Space Is Only Noise-002-Nicolas Jaar-Colomb.wav\n",
            "Space Is Only Noise-003-Nicolas Jaar-Sunflower.wav\n",
            "Space Is Only Noise-004-Nicolas Jaar-Too Many Kids Finding Rain In the Dust.wav\n",
            "Space Is Only Noise-005-Nicolas Jaar-Keep Me There.wav\n",
            "Space Is Only Noise-007-Nicolas Jaar-Problem With the Sun.wav\n",
            "Space Is Only Noise-008-Nicolas Jaar-Space Is Only Noise If You Can See.wav\n",
            "Space Is Only Noise-009-Nicolas Jaar-Almost Fell.wav\n",
            "Space Is Only Noise-010-Nicolas Jaar-Balance Her In Between Your Eyes.wav\n",
            "Space Is Only Noise-011-Nicolas Jaar-Specters of the Future.wav\n",
            "Space Is Only Noise-012-Nicolas Jaar-Trace.wav\n",
            "Space Is Only Noise-013-Nicolas Jaar-Variations.wav\n",
            "Space Is Only Noise-014-Nicolas Jaar-^tre.wav\n",
            "Nymphs-001-Nicolas Jaar-Don't Break My Love.wav\n",
            "Nymphs-002-Nicolas Jaar-Why Didn't You Save Me.wav\n",
            "Nymphs-003-Nicolas Jaar-The Three Sides of Audrey and Why She's All Alone .wav\n",
            "Nymphs-004-Nicolas Jaar feat Lorraine-No One Is Looking at U.wav\n",
            "Nymphs-005-Nicolas Jaar-Swim.wav\n",
            "Nymphs-006-Nicolas Jaar-Mistress.wav\n",
            "Nymphs-007-Nicolas Jaar-Fight.wav\n",
            "Pomegranates-001-Nicolas Jaar-Garden of Eden.wav\n",
            "Pomegranates-002-Nicolas Jaar-Construction.wav\n",
            "Pomegranates-003-Nicolas Jaar-Pass the Time.wav\n",
            "Pomegranates-004-Nicolas Jaar-Survival.wav\n",
            "Pomegranates-005-Nicolas Jaar-The Fool and His Harem.wav\n",
            "Pomegranates-006-Nicolas Jaar-Nothingness.wav\n",
            "Pomegranates-007-Nicolas Jaar-Near Death.wav\n",
            "Pomegranates-008-Nicolas Jaar-Beasts of This Earth.wav\n",
            "Pomegranates-009-Nicolas Jaar-Fall into Time.wav\n",
            "Pomegranates-010-Nicolas Jaar-Folie à deux.wav\n",
            "Pomegranates-011-Nicolas Jaar-Screams at the Edge of Dawn.wav\n",
            "Pomegranates-012-Nicolas Jaar-Divorce.wav\n",
            "Pomegranates-013-Nicolas Jaar-Three Windows.wav\n",
            "Pomegranates-014-Nicolas Jaar-Tourists.wav\n",
            "Pomegranates-015-Nicolas Jaar-Shame.wav\n",
            "Pomegranates-016-Nicolas Jaar-Tower of Sin.wav\n",
            "Pomegranates-017-Nicolas Jaar-Club Kapital.wav\n",
            "Pomegranates-018-Nicolas Jaar-Volver.wav\n",
            "Pomegranates-019-Nicolas Jaar-Spirit.wav\n",
            "Pomegranates-020-Nicolas Jaar-Muse.wav\n",
            "Sirens-001-Nicolas Jaar-Killing Time.wav\n",
            "Sirens-002-Nicolas Jaar-Wildflowers.wav\n",
            "Sirens-003-Nicolas Jaar-The Governor.wav\n",
            "Sirens-004-Nicolas Jaar-A Coin in Nine Hands.wav\n",
            "Sirens-005-Nicolas Jaar-Leaves.wav\n",
            "Sirens-006-Nicolas Jaar-No.wav\n",
            "Sirens-007-Nicolas Jaar-Three Sides of Nazareth.wav\n",
            "Sirens-008-Nicolas Jaar-History Lesson.wav\n",
            "Sirens-009-Nicolas Jaar-America! I'm for the Birds.wav\n",
            "Cenizas-001-Nicolas Jaar-Vanish.wav\n",
            "Cenizas-002-Nicolas Jaar-Menysid.wav\n",
            "Cenizas-003-Nicolas Jaar-Cenizas.wav\n",
            "Cenizas-004-Nicolas Jaar-Agosto.wav\n",
            "Cenizas-005-Nicolas Jaar-Gocce.wav\n",
            "Cenizas-006-Nicolas Jaar-Mud.wav\n",
            "Cenizas-007-Nicolas Jaar-Vaciar.wav\n",
            "Cenizas-008-Nicolas Jaar-Sunder.wav\n",
            "Cenizas-009-Nicolas Jaar-Hello, Chain.wav\n",
            "Cenizas-010-Nicolas Jaar-Rubble.wav\n",
            "Cenizas-011-Nicolas Jaar-Garden.wav\n",
            "Cenizas-012-Nicolas Jaar-Xerox.wav\n",
            "Cenizas-013-Nicolas Jaar-Faith Made of Silk.wav\n",
            "Telas-001-Nicolas Jaar-Telahora.wav\n",
            "Telas-002-Nicolas Jaar-Telencima.wav\n",
            "Telas-003-Nicolas Jaar-Telahumo.wav\n",
            "Telas-004-Nicolas Jaar-Telallas.wav\n"
          ]
        }
      ],
      "source": [
        "jaar_files = []\n",
        "test_files = []\n",
        "\n",
        "folder_path = Path('JaarSongs/1-SpaceIsOnlyNoise(2011)')\n",
        "files = [file for file in folder_path.iterdir() if file.suffix=='.wav']\n",
        "for file in sorted(files, key = lambda x: x.name):\n",
        "    jaar_files.append(file)\n",
        "\n",
        "folder_path = Path('JaarSongs/2-Nymphs(2011-2015)')\n",
        "files = [file for file in folder_path.iterdir() if file.suffix=='.wav']\n",
        "for file in sorted(files, key = lambda x: x.name):\n",
        "    jaar_files.append(file)\n",
        "\n",
        "folder_path = Path('JaarSongs/3-Pomegranates(2015)')\n",
        "files = [file for file in folder_path.iterdir() if file.suffix=='.wav']\n",
        "for file in sorted(files, key = lambda x: x.name):\n",
        "    jaar_files.append(file)\n",
        "\n",
        "folder_path = Path('JaarSongs/4-Sirens(2016)')\n",
        "files = [file for file in folder_path.iterdir() if file.suffix=='.wav']\n",
        "for file in sorted(files, key = lambda x: x.name):\n",
        "    jaar_files.append(file)\n",
        "\n",
        "folder_path = Path('JaarSongs/5-Cenizas(2020)')\n",
        "files = [file for file in folder_path.iterdir() if file.suffix=='.wav']\n",
        "for file in sorted(files, key = lambda x: x.name):\n",
        "    jaar_files.append(file)\n",
        "\n",
        "folder_path = Path('JaarSongs/6-Telas(2020)')\n",
        "files = [file for file in folder_path.iterdir() if file.suffix=='.wav']\n",
        "for file in sorted(files, key = lambda x: x.name):\n",
        "    jaar_files.append(file)\n",
        "\n",
        "\n",
        "for file in jaar_files:\n",
        "    print(file.name)"
      ]
    },
    {
      "cell_type": "markdown",
      "id": "d447d2cd",
      "metadata": {
        "id": "d447d2cd"
      },
      "source": [
        "## Mid/side vs stereo"
      ]
    },
    {
      "cell_type": "code",
      "execution_count": null,
      "id": "3d256e64",
      "metadata": {
        "id": "3d256e64",
        "outputId": "d561d705-4be0-4e83-b25e-48a7eeb466f6"
      },
      "outputs": [
        {
          "name": "stdout",
          "output_type": "stream",
          "text": [
            "44100\n",
            "[[ -1   0]\n",
            " [  0  -1]\n",
            " [ -1   0]\n",
            " ...\n",
            " [-17 -65]\n",
            " [-33 -24]\n",
            " [-86 -24]]\n",
            "shapes:  (2, 6373632) (6373632,) (6373632,) (6373632, 2) (12747263, 2)\n",
            "rates:  44100 22050\n"
          ]
        },
        {
          "data": {
            "image/png": "[encoded data removed]",
            "text/plain": [
              "<Figure size 600x300 with 1 Axes>"
            ]
          },
          "metadata": {
            "image/png": {
              "height": 315,
              "width": 570
            }
          },
          "output_type": "display_data"
        },
        {
          "data": {
            "image/png": "[encoded data removed]",
            "text/plain": [
              "<Figure size 600x300 with 1 Axes>"
            ]
          },
          "metadata": {
            "image/png": {
              "height": 315,
              "width": 548
            }
          },
          "output_type": "display_data"
        }
      ],
      "source": [
        "y, sr = librosa.load(jaar_files[0], sr=22050, mono=False)\n",
        "#y_mono = librosa.to_mono(y)\n",
        "mid = 0.5 * (y[0, :] + y[1, :])\n",
        "side = 0.5 * (y[0, :] - y[1, :])\n",
        "MS = np.array([mid, side]).T\n",
        "\n",
        "\n",
        "def setup_graph(title='', x_label='', y_label='', fig_size=None):\n",
        "    fig = plt.figure()\n",
        "    if fig_size != None:\n",
        "        fig.set_size_inches(fig_size[0], fig_size[1])\n",
        "    ax = fig.add_subplot(111)\n",
        "    ax.set_title(title)\n",
        "    ax.set_xlabel(x_label)\n",
        "    ax.set_ylabel(y_label)\n",
        "\n",
        "### Modify the line below with your WAV file:\n",
        "sample_rate, input_signal = wavfile.read(jaar_files[0])\n",
        "\n",
        "print(sample_rate)\n",
        "print(input_signal)\n",
        "print('shapes: ', y.shape, mid.shape, side.shape, MS.shape, input_signal.shape)\n",
        "print('rates: ', sample_rate, sr)\n",
        "\n",
        "time_array = np.arange(0, len(input_signal)/sample_rate, 1/sample_rate)\n",
        "setup_graph(title='Jaar song 1 stereo', x_label='time (in seconds)', y_label='amplitude', fig_size=(6,3))\n",
        "_ = plt.plot(time_array[0:700000], input_signal[0:700000])\n",
        "\n",
        "sample_rate, input_signal = sr, MS\n",
        "time_array = np.arange(0, len(input_signal)/sample_rate, 1/sample_rate)\n",
        "setup_graph(title='Jaar song 1 mid/side', x_label='time (in seconds)', y_label='amplitude', fig_size=(6,3))\n",
        "_ = plt.plot(time_array[0:700000], input_signal[0:700000])"
      ]
    },
    {
      "cell_type": "markdown",
      "id": "2d5a6973",
      "metadata": {
        "id": "2d5a6973"
      },
      "source": [
        "### Convert all of the files to mid-side in effort to aid with feature extraction"
      ]
    },
    {
      "cell_type": "code",
      "execution_count": null,
      "id": "6f0bfb2f",
      "metadata": {
        "id": "6f0bfb2f",
        "outputId": "70daa57f-8560-4b8a-dd03-c1d70361f022"
      },
      "outputs": [
        {
          "name": "stdout",
          "output_type": "stream",
          "text": [
            "17.480773210525513\n"
          ]
        }
      ],
      "source": [
        "import time\n",
        "\n",
        "all_mid_side = []\n",
        "sample_rate = 22050\n",
        "\n",
        "start_time = time.time()\n",
        "for i in range(len(jaar_files)):\n",
        "    y, _ = librosa.load(jaar_files[i], sr=sample_rate, mono=False)\n",
        "    mid = 0.5 * (y[0, :] + y[1, :])\n",
        "    side = 0.5 * (y[0, :] - y[1, :])\n",
        "    all_mid_side.append(np.array([mid, side]).T)\n",
        "end_time = time.time()\n",
        "\n",
        "print(end_time - start_time)"
      ]
    },
    {
      "cell_type": "markdown",
      "id": "ea0fe32b",
      "metadata": {
        "id": "ea0fe32b"
      },
      "source": [
        "# Window slicing"
      ]
    },
    {
      "cell_type": "markdown",
      "id": "9965c2e8",
      "metadata": {
        "id": "9965c2e8"
      },
      "source": [
        "### Comparison of different jaar songs"
      ]
    },
    {
      "cell_type": "code",
      "execution_count": null,
      "id": "178e2609",
      "metadata": {
        "colab": {
          "base_uri": "https://localhost:8080/",
          "height": 216
        },
        "id": "178e2609",
        "outputId": "ef81acc5-a911-4e62-e88c-5f4e28cba26a"
      },
      "outputs": [
        {
          "output_type": "error",
          "ename": "Exception",
          "evalue": "Output omitted to reduce the file size",
          "traceback": [
            "\u001b[0;31m---------------------------------------------------------------------------\u001b[0m",
            "\u001b[0;31mException\u001b[0m                                 Traceback (most recent call last)",
            "\u001b[0;32m<ipython-input-1-2f66c6dae8d3>\u001b[0m in \u001b[0;36m<cell line: 0>\u001b[0;34m()\u001b[0m\n\u001b[0;32m----> 1\u001b[0;31m \u001b[0;32mraise\u001b[0m \u001b[0mException\u001b[0m\u001b[0;34m(\u001b[0m\u001b[0;34m'Output omitted to reduce the file size'\u001b[0m\u001b[0;34m)\u001b[0m\u001b[0;34m\u001b[0m\u001b[0;34m\u001b[0m\u001b[0m\n\u001b[0m\u001b[1;32m      2\u001b[0m \u001b[0mprint\u001b[0m\u001b[0;34m(\u001b[0m\u001b[0;34m\"Danceability rating of:\"\u001b[0m\u001b[0;34m,\u001b[0m \u001b[0maudio_features\u001b[0m\u001b[0;34m[\u001b[0m\u001b[0;34m'danceability'\u001b[0m\u001b[0;34m]\u001b[0m\u001b[0;34m[\u001b[0m\u001b[0;36m0\u001b[0m\u001b[0;34m]\u001b[0m\u001b[0;34m)\u001b[0m\u001b[0;34m\u001b[0m\u001b[0;34m\u001b[0m\u001b[0m\n\u001b[1;32m      3\u001b[0m \u001b[0mipd\u001b[0m\u001b[0;34m.\u001b[0m\u001b[0mAudio\u001b[0m\u001b[0;34m(\u001b[0m\u001b[0mlibrosa\u001b[0m\u001b[0;34m.\u001b[0m\u001b[0mload\u001b[0m\u001b[0;34m(\u001b[0m\u001b[0mjaar_files\u001b[0m\u001b[0;34m[\u001b[0m\u001b[0;36m0\u001b[0m\u001b[0;34m]\u001b[0m\u001b[0;34m,\u001b[0m \u001b[0msr\u001b[0m\u001b[0;34m=\u001b[0m\u001b[0msample_rate\u001b[0m\u001b[0;34m,\u001b[0m \u001b[0mmono\u001b[0m\u001b[0;34m=\u001b[0m\u001b[0;32mFalse\u001b[0m\u001b[0;34m)\u001b[0m\u001b[0;34m[\u001b[0m\u001b[0;36m0\u001b[0m\u001b[0;34m]\u001b[0m\u001b[0;34m,\u001b[0m \u001b[0mrate\u001b[0m\u001b[0;34m=\u001b[0m\u001b[0msample_rate\u001b[0m\u001b[0;34m)\u001b[0m\u001b[0;34m\u001b[0m\u001b[0;34m\u001b[0m\u001b[0m\n\u001b[1;32m      4\u001b[0m \u001b[0;34m\u001b[0m\u001b[0m\n\u001b[1;32m      5\u001b[0m \u001b[0;31m# first minute vs 1:30+\u001b[0m\u001b[0;34m\u001b[0m\u001b[0;34m\u001b[0m\u001b[0m\n",
            "\u001b[0;31mException\u001b[0m: Output omitted to reduce the file size"
          ]
        }
      ],
      "source": [
        "raise Exception('Output omitted to reduce the file size')\n",
        "print(\"Danceability rating of:\", audio_features['danceability'][0])\n",
        "ipd.Audio(librosa.load(jaar_files[0], sr=sample_rate, mono=False)[0], rate=sample_rate)\n",
        "\n",
        "# first minute vs 1:30+"
      ]
    },
    {
      "cell_type": "code",
      "execution_count": null,
      "id": "13ee6905",
      "metadata": {
        "colab": {
          "base_uri": "https://localhost:8080/",
          "height": 180
        },
        "id": "13ee6905",
        "outputId": "45d8d04b-2067-401d-d7e9-4b8bab28e995"
      },
      "outputs": [
        {
          "output_type": "error",
          "ename": "Exception",
          "evalue": "Output omitted to reduce the file size",
          "traceback": [
            "\u001b[0;31m---------------------------------------------------------------------------\u001b[0m",
            "\u001b[0;31mException\u001b[0m                                 Traceback (most recent call last)",
            "\u001b[0;32m<ipython-input-2-badae8005feb>\u001b[0m in \u001b[0;36m<cell line: 0>\u001b[0;34m()\u001b[0m\n\u001b[0;32m----> 1\u001b[0;31m \u001b[0;32mraise\u001b[0m \u001b[0mException\u001b[0m\u001b[0;34m(\u001b[0m\u001b[0;34m'Output omitted to reduce the file size'\u001b[0m\u001b[0;34m)\u001b[0m\u001b[0;34m\u001b[0m\u001b[0;34m\u001b[0m\u001b[0m\n\u001b[0m\u001b[1;32m      2\u001b[0m \u001b[0mprint\u001b[0m\u001b[0;34m(\u001b[0m\u001b[0;34m\"Danceability rating of:\"\u001b[0m\u001b[0;34m,\u001b[0m \u001b[0maudio_features\u001b[0m\u001b[0;34m[\u001b[0m\u001b[0;34m'danceability'\u001b[0m\u001b[0;34m]\u001b[0m\u001b[0;34m[\u001b[0m\u001b[0;36m33\u001b[0m\u001b[0;34m]\u001b[0m\u001b[0;34m)\u001b[0m\u001b[0;34m\u001b[0m\u001b[0;34m\u001b[0m\u001b[0m\n\u001b[1;32m      3\u001b[0m \u001b[0mipd\u001b[0m\u001b[0;34m.\u001b[0m\u001b[0mAudio\u001b[0m\u001b[0;34m(\u001b[0m\u001b[0mlibrosa\u001b[0m\u001b[0;34m.\u001b[0m\u001b[0mload\u001b[0m\u001b[0;34m(\u001b[0m\u001b[0mjaar_files\u001b[0m\u001b[0;34m[\u001b[0m\u001b[0;36m33\u001b[0m\u001b[0;34m]\u001b[0m\u001b[0;34m,\u001b[0m \u001b[0msr\u001b[0m\u001b[0;34m=\u001b[0m\u001b[0msample_rate\u001b[0m\u001b[0;34m,\u001b[0m \u001b[0mmono\u001b[0m\u001b[0;34m=\u001b[0m\u001b[0;32mFalse\u001b[0m\u001b[0;34m)\u001b[0m\u001b[0;34m[\u001b[0m\u001b[0;36m0\u001b[0m\u001b[0;34m]\u001b[0m\u001b[0;34m,\u001b[0m \u001b[0mrate\u001b[0m\u001b[0;34m=\u001b[0m\u001b[0msample_rate\u001b[0m\u001b[0;34m)\u001b[0m\u001b[0;34m\u001b[0m\u001b[0;34m\u001b[0m\u001b[0m\n",
            "\u001b[0;31mException\u001b[0m: Output omitted to reduce the file size"
          ]
        }
      ],
      "source": [
        "raise Exception('Output omitted to reduce the file size')\n",
        "print(\"Danceability rating of:\", audio_features['danceability'][33])\n",
        "ipd.Audio(librosa.load(jaar_files[33], sr=sample_rate, mono=False)[0], rate=sample_rate)"
      ]
    },
    {
      "cell_type": "code",
      "execution_count": null,
      "id": "39db9874",
      "metadata": {
        "colab": {
          "base_uri": "https://localhost:8080/",
          "height": 216
        },
        "id": "39db9874",
        "outputId": "b3be03c7-0946-45d6-9591-22b620835487"
      },
      "outputs": [
        {
          "output_type": "error",
          "ename": "Exception",
          "evalue": "Output omitted to reduce the file size",
          "traceback": [
            "\u001b[0;31m---------------------------------------------------------------------------\u001b[0m",
            "\u001b[0;31mException\u001b[0m                                 Traceback (most recent call last)",
            "\u001b[0;32m<ipython-input-3-8d5ccecf4a7f>\u001b[0m in \u001b[0;36m<cell line: 0>\u001b[0;34m()\u001b[0m\n\u001b[0;32m----> 1\u001b[0;31m \u001b[0;32mraise\u001b[0m \u001b[0mException\u001b[0m\u001b[0;34m(\u001b[0m\u001b[0;34m'Output omitted to reduce the file size'\u001b[0m\u001b[0;34m)\u001b[0m\u001b[0;34m\u001b[0m\u001b[0;34m\u001b[0m\u001b[0m\n\u001b[0m\u001b[1;32m      2\u001b[0m \u001b[0mprint\u001b[0m\u001b[0;34m(\u001b[0m\u001b[0;34m\"Danceability rating of:\"\u001b[0m\u001b[0;34m,\u001b[0m \u001b[0maudio_features\u001b[0m\u001b[0;34m[\u001b[0m\u001b[0;34m'danceability'\u001b[0m\u001b[0;34m]\u001b[0m\u001b[0;34m[\u001b[0m\u001b[0;36m6\u001b[0m\u001b[0;34m]\u001b[0m\u001b[0;34m)\u001b[0m\u001b[0;34m\u001b[0m\u001b[0;34m\u001b[0m\u001b[0m\n\u001b[1;32m      3\u001b[0m \u001b[0mipd\u001b[0m\u001b[0;34m.\u001b[0m\u001b[0mAudio\u001b[0m\u001b[0;34m(\u001b[0m\u001b[0mlibrosa\u001b[0m\u001b[0;34m.\u001b[0m\u001b[0mload\u001b[0m\u001b[0;34m(\u001b[0m\u001b[0mjaar_files\u001b[0m\u001b[0;34m[\u001b[0m\u001b[0;36m6\u001b[0m\u001b[0;34m]\u001b[0m\u001b[0;34m,\u001b[0m \u001b[0msr\u001b[0m\u001b[0;34m=\u001b[0m\u001b[0msample_rate\u001b[0m\u001b[0;34m,\u001b[0m \u001b[0mmono\u001b[0m\u001b[0;34m=\u001b[0m\u001b[0;32mFalse\u001b[0m\u001b[0;34m)\u001b[0m\u001b[0;34m[\u001b[0m\u001b[0;36m0\u001b[0m\u001b[0;34m]\u001b[0m\u001b[0;34m,\u001b[0m \u001b[0mrate\u001b[0m\u001b[0;34m=\u001b[0m\u001b[0msample_rate\u001b[0m\u001b[0;34m)\u001b[0m\u001b[0;34m\u001b[0m\u001b[0;34m\u001b[0m\u001b[0m\n\u001b[1;32m      4\u001b[0m \u001b[0;34m\u001b[0m\u001b[0m\n\u001b[1;32m      5\u001b[0m \u001b[0;31m# First 30 compared to post 50\u001b[0m\u001b[0;34m\u001b[0m\u001b[0;34m\u001b[0m\u001b[0m\n",
            "\u001b[0;31mException\u001b[0m: Output omitted to reduce the file size"
          ]
        }
      ],
      "source": [
        "raise Exception('Output omitted to reduce the file size')\n",
        "print(\"Danceability rating of:\", audio_features['danceability'][6])\n",
        "ipd.Audio(librosa.load(jaar_files[6], sr=sample_rate, mono=False)[0], rate=sample_rate)\n",
        "\n",
        "# First 30 compared to post 50"
      ]
    },
    {
      "cell_type": "markdown",
      "id": "affb9621",
      "metadata": {
        "id": "affb9621"
      },
      "source": [
        "#### And the lowest / highest ratings"
      ]
    },
    {
      "cell_type": "code",
      "execution_count": null,
      "id": "45073804",
      "metadata": {
        "id": "45073804",
        "outputId": "57af8f77-3c31-4804-81d1-d43d20fa26f7"
      },
      "outputs": [
        {
          "data": {
            "text/plain": [
              "(5, 31)"
            ]
          },
          "execution_count": 14,
          "metadata": {},
          "output_type": "execute_result"
        }
      ],
      "source": [
        "audio_features['danceability'].idxmax(), audio_features['danceability'].idxmin()"
      ]
    },
    {
      "cell_type": "code",
      "execution_count": null,
      "id": "4209d8b3",
      "metadata": {
        "colab": {
          "base_uri": "https://localhost:8080/",
          "height": 180
        },
        "id": "4209d8b3",
        "outputId": "f0c179f2-e354-4b52-a388-ac67c00c0006"
      },
      "outputs": [
        {
          "output_type": "error",
          "ename": "Exception",
          "evalue": "Output omitted to reduce the file size",
          "traceback": [
            "\u001b[0;31m---------------------------------------------------------------------------\u001b[0m",
            "\u001b[0;31mException\u001b[0m                                 Traceback (most recent call last)",
            "\u001b[0;32m<ipython-input-4-6283928cf149>\u001b[0m in \u001b[0;36m<cell line: 0>\u001b[0;34m()\u001b[0m\n\u001b[0;32m----> 1\u001b[0;31m \u001b[0;32mraise\u001b[0m \u001b[0mException\u001b[0m\u001b[0;34m(\u001b[0m\u001b[0;34m'Output omitted to reduce the file size'\u001b[0m\u001b[0;34m)\u001b[0m\u001b[0;34m\u001b[0m\u001b[0;34m\u001b[0m\u001b[0m\n\u001b[0m\u001b[1;32m      2\u001b[0m \u001b[0mprint\u001b[0m\u001b[0;34m(\u001b[0m\u001b[0;34m\"Top danceability rating of:\"\u001b[0m\u001b[0;34m,\u001b[0m \u001b[0maudio_features\u001b[0m\u001b[0;34m[\u001b[0m\u001b[0;34m'danceability'\u001b[0m\u001b[0;34m]\u001b[0m\u001b[0;34m[\u001b[0m\u001b[0;36m5\u001b[0m\u001b[0;34m]\u001b[0m\u001b[0;34m)\u001b[0m\u001b[0;34m\u001b[0m\u001b[0;34m\u001b[0m\u001b[0m\n\u001b[1;32m      3\u001b[0m \u001b[0mipd\u001b[0m\u001b[0;34m.\u001b[0m\u001b[0mAudio\u001b[0m\u001b[0;34m(\u001b[0m\u001b[0mlibrosa\u001b[0m\u001b[0;34m.\u001b[0m\u001b[0mload\u001b[0m\u001b[0;34m(\u001b[0m\u001b[0mjaar_files\u001b[0m\u001b[0;34m[\u001b[0m\u001b[0;36m5\u001b[0m\u001b[0;34m]\u001b[0m\u001b[0;34m,\u001b[0m \u001b[0msr\u001b[0m\u001b[0;34m=\u001b[0m\u001b[0msample_rate\u001b[0m\u001b[0;34m,\u001b[0m \u001b[0mmono\u001b[0m\u001b[0;34m=\u001b[0m\u001b[0;32mFalse\u001b[0m\u001b[0;34m)\u001b[0m\u001b[0;34m[\u001b[0m\u001b[0;36m0\u001b[0m\u001b[0;34m]\u001b[0m\u001b[0;34m,\u001b[0m \u001b[0mrate\u001b[0m\u001b[0;34m=\u001b[0m\u001b[0msample_rate\u001b[0m\u001b[0;34m)\u001b[0m\u001b[0;34m\u001b[0m\u001b[0;34m\u001b[0m\u001b[0m\n",
            "\u001b[0;31mException\u001b[0m: Output omitted to reduce the file size"
          ]
        }
      ],
      "source": [
        "raise Exception('Output omitted to reduce the file size')\n",
        "print(\"Top danceability rating of:\", audio_features['danceability'][5])\n",
        "ipd.Audio(librosa.load(jaar_files[5], sr=sample_rate, mono=False)[0], rate=sample_rate)"
      ]
    },
    {
      "cell_type": "code",
      "execution_count": null,
      "id": "f00975a1",
      "metadata": {
        "colab": {
          "base_uri": "https://localhost:8080/",
          "height": 180
        },
        "id": "f00975a1",
        "outputId": "cdbe0638-b49f-4c41-eec8-7180e698e59e"
      },
      "outputs": [
        {
          "output_type": "error",
          "ename": "Exception",
          "evalue": "Output omitted to reduce the file size",
          "traceback": [
            "\u001b[0;31m---------------------------------------------------------------------------\u001b[0m",
            "\u001b[0;31mException\u001b[0m                                 Traceback (most recent call last)",
            "\u001b[0;32m<ipython-input-5-1d2b0af8b8c5>\u001b[0m in \u001b[0;36m<cell line: 0>\u001b[0;34m()\u001b[0m\n\u001b[0;32m----> 1\u001b[0;31m \u001b[0;32mraise\u001b[0m \u001b[0mException\u001b[0m\u001b[0;34m(\u001b[0m\u001b[0;34m'Output omitted to reduce the file size'\u001b[0m\u001b[0;34m)\u001b[0m\u001b[0;34m\u001b[0m\u001b[0;34m\u001b[0m\u001b[0m\n\u001b[0m\u001b[1;32m      2\u001b[0m \u001b[0mprint\u001b[0m\u001b[0;34m(\u001b[0m\u001b[0;34m\"Lowest danceability rating of:\"\u001b[0m\u001b[0;34m,\u001b[0m \u001b[0maudio_features\u001b[0m\u001b[0;34m[\u001b[0m\u001b[0;34m'danceability'\u001b[0m\u001b[0;34m]\u001b[0m\u001b[0;34m[\u001b[0m\u001b[0;36m31\u001b[0m\u001b[0;34m]\u001b[0m\u001b[0;34m)\u001b[0m\u001b[0;34m\u001b[0m\u001b[0;34m\u001b[0m\u001b[0m\n\u001b[1;32m      3\u001b[0m \u001b[0mipd\u001b[0m\u001b[0;34m.\u001b[0m\u001b[0mAudio\u001b[0m\u001b[0;34m(\u001b[0m\u001b[0mlibrosa\u001b[0m\u001b[0;34m.\u001b[0m\u001b[0mload\u001b[0m\u001b[0;34m(\u001b[0m\u001b[0mjaar_files\u001b[0m\u001b[0;34m[\u001b[0m\u001b[0;36m31\u001b[0m\u001b[0;34m]\u001b[0m\u001b[0;34m,\u001b[0m \u001b[0msr\u001b[0m\u001b[0;34m=\u001b[0m\u001b[0msample_rate\u001b[0m\u001b[0;34m,\u001b[0m \u001b[0mmono\u001b[0m\u001b[0;34m=\u001b[0m\u001b[0;32mFalse\u001b[0m\u001b[0;34m)\u001b[0m\u001b[0;34m[\u001b[0m\u001b[0;36m0\u001b[0m\u001b[0;34m]\u001b[0m\u001b[0;34m,\u001b[0m \u001b[0mrate\u001b[0m\u001b[0;34m=\u001b[0m\u001b[0msample_rate\u001b[0m\u001b[0;34m)\u001b[0m\u001b[0;34m\u001b[0m\u001b[0;34m\u001b[0m\u001b[0m\n",
            "\u001b[0;31mException\u001b[0m: Output omitted to reduce the file size"
          ]
        }
      ],
      "source": [
        "raise Exception('Output omitted to reduce the file size')\n",
        "print(\"Lowest danceability rating of:\", audio_features['danceability'][31])\n",
        "ipd.Audio(librosa.load(jaar_files[31], sr=sample_rate, mono=False)[0], rate=sample_rate)"
      ]
    },
    {
      "cell_type": "markdown",
      "id": "412452b9",
      "metadata": {
        "id": "412452b9"
      },
      "source": [
        "### Actually split them"
      ]
    },
    {
      "cell_type": "code",
      "execution_count": null,
      "id": "ab9d459c",
      "metadata": {
        "id": "ab9d459c",
        "outputId": "3d60e161-6ce1-43d9-c7b4-aac84b4fdf12"
      },
      "outputs": [
        {
          "name": "stdout",
          "output_type": "stream",
          "text": [
            "0.0008471012115478516\n"
          ]
        },
        {
          "data": {
            "text/plain": [
              "661500"
            ]
          },
          "execution_count": 17,
          "metadata": {},
          "output_type": "execute_result"
        }
      ],
      "source": [
        "# all_mid_side\n",
        "#print(all_mid_side[0].shape)\n",
        "\n",
        "window_sample_number = 30*sample_rate\n",
        "#1323000\n",
        "\n",
        "start_time = time.time()\n",
        "all_mid_side_chopped = []\n",
        "for i in range(len(all_mid_side)):\n",
        "    offset = 0\n",
        "    all_mid_side_chopped.append([])\n",
        "    while offset + window_sample_number <= all_mid_side[i].shape[0]:\n",
        "        all_mid_side_chopped[i].append(all_mid_side[i][offset : offset+window_sample_number, :])\n",
        "        offset += window_sample_number\n",
        "end_time = time.time()\n",
        "print(end_time - start_time)\n",
        "len(all_mid_side_chopped[0][0])"
      ]
    },
    {
      "cell_type": "code",
      "execution_count": null,
      "id": "aebd8ba3",
      "metadata": {
        "id": "aebd8ba3",
        "outputId": "df1bf05c-83e6-4aaf-881a-148e0a6f0054"
      },
      "outputs": [
        {
          "name": "stdout",
          "output_type": "stream",
          "text": [
            "Total items in the nested list: 650\n"
          ]
        }
      ],
      "source": [
        "def count_nested_items(nested_list):\n",
        "    count = 0\n",
        "    stack = [nested_list]\n",
        "\n",
        "    while stack:\n",
        "        current_list = stack.pop()\n",
        "        for item in current_list:\n",
        "            if isinstance(item, list):\n",
        "                stack.append(item)\n",
        "            else:\n",
        "                count += 1\n",
        "\n",
        "    return count\n",
        "\n",
        "# Example nested list\n",
        "nested_list = all_mid_side_chopped\n",
        "\n",
        "total_items = count_nested_items(nested_list)\n",
        "print(f\"Total items in the nested list: {total_items}\")\n"
      ]
    },
    {
      "cell_type": "markdown",
      "id": "b598c387",
      "metadata": {
        "id": "b598c387"
      },
      "source": [
        "### Index labels in correspondance with how many slices each song contains"
      ]
    },
    {
      "cell_type": "code",
      "execution_count": null,
      "id": "8c565705",
      "metadata": {
        "id": "8c565705",
        "outputId": "5e6c9f5e-8eac-49f7-8889-5f4a30f3657f"
      },
      "outputs": [
        {
          "name": "stdout",
          "output_type": "stream",
          "text": [
            "66 66\n",
            "650\n",
            "650\n"
          ]
        }
      ],
      "source": [
        "# Perhaps I want to normalize these between 0 and 1 - it might be better than leaving it as -1 to +1\n",
        "#audio_features['danceability'].values are already scaled from 0 to 1\n",
        "\n",
        "print(len(audio_features['danceability']), len(jaar_files)) #, len(test_files)\n",
        "\n",
        "labels = []\n",
        "for listI in range(len(all_mid_side_chopped)):\n",
        "    for _ in all_mid_side_chopped[listI]:\n",
        "        labels.append(audio_features['danceability'][listI])\n",
        "print(len(labels))\n",
        "\n",
        "### Expand the nested list of numpy arrays so that it is comparable to the label list's shape\n",
        "x = []\n",
        "for l in all_mid_side_chopped:\n",
        "    for window in l:\n",
        "        x.append(window)\n",
        "print(len(x))"
      ]
    },
    {
      "cell_type": "markdown",
      "id": "61b95b60",
      "metadata": {
        "id": "61b95b60"
      },
      "source": [
        "## Finally, export wav data as numpy arrays"
      ]
    },
    {
      "cell_type": "code",
      "execution_count": null,
      "id": "0e41b4d3",
      "metadata": {
        "id": "0e41b4d3",
        "outputId": "f9eb5cab-b77e-499d-fa47-634b86631ea2"
      },
      "outputs": [
        {
          "name": "stdout",
          "output_type": "stream",
          "text": [
            "(650,) (650, 661500, 2)\n"
          ]
        }
      ],
      "source": [
        "import pickle\n",
        "\n",
        "labels = np.array(labels)\n",
        "X = np.array(x)\n",
        "\n",
        "print(labels.shape, X.shape)\n",
        "\n",
        "with open('X_array_22050.pkl', 'wb') as file:\n",
        "    pickle.dump(X, file)\n",
        "with open('L_array_22050.pkl', 'wb') as file:\n",
        "    pickle.dump(labels, file)"
      ]
    },
    {
      "cell_type": "markdown",
      "id": "86200f50",
      "metadata": {
        "id": "86200f50"
      },
      "source": [
        "### Some window comparisson"
      ]
    },
    {
      "cell_type": "code",
      "execution_count": 6,
      "id": "1d343b42",
      "metadata": {
        "id": "1d343b42",
        "outputId": "b3194ffc-3b61-46ae-b23d-b8e8f37cf379",
        "colab": {
          "base_uri": "https://localhost:8080/",
          "height": 180
        }
      },
      "outputs": [
        {
          "output_type": "error",
          "ename": "Exception",
          "evalue": "Output omitted to reduce the file size",
          "traceback": [
            "\u001b[0;31m---------------------------------------------------------------------------\u001b[0m",
            "\u001b[0;31mException\u001b[0m                                 Traceback (most recent call last)",
            "\u001b[0;32m<ipython-input-6-3e2196b0bf31>\u001b[0m in \u001b[0;36m<cell line: 0>\u001b[0;34m()\u001b[0m\n\u001b[0;32m----> 1\u001b[0;31m \u001b[0;32mraise\u001b[0m \u001b[0mException\u001b[0m\u001b[0;34m(\u001b[0m\u001b[0;34m'Output omitted to reduce the file size'\u001b[0m\u001b[0;34m)\u001b[0m\u001b[0;34m\u001b[0m\u001b[0;34m\u001b[0m\u001b[0m\n\u001b[0m\u001b[1;32m      2\u001b[0m \u001b[0mprint\u001b[0m\u001b[0;34m(\u001b[0m\u001b[0;34m\"Mid of a random window\"\u001b[0m \u001b[0;34m+\u001b[0m \u001b[0;34m\" (danceability:\"\u001b[0m\u001b[0;34m,\u001b[0m \u001b[0mlabels\u001b[0m\u001b[0;34m[\u001b[0m\u001b[0;36m89\u001b[0m\u001b[0;34m]\u001b[0m\u001b[0;34m)\u001b[0m\u001b[0;34m\u001b[0m\u001b[0;34m\u001b[0m\u001b[0m\n\u001b[1;32m      3\u001b[0m \u001b[0mipd\u001b[0m\u001b[0;34m.\u001b[0m\u001b[0mAudio\u001b[0m\u001b[0;34m(\u001b[0m\u001b[0mdata\u001b[0m\u001b[0;34m=\u001b[0m\u001b[0mX\u001b[0m\u001b[0;34m[\u001b[0m\u001b[0;36m89\u001b[0m\u001b[0;34m,\u001b[0m\u001b[0;34m:\u001b[0m\u001b[0;34m,\u001b[0m\u001b[0;36m0\u001b[0m\u001b[0;34m]\u001b[0m\u001b[0;34m,\u001b[0m \u001b[0mrate\u001b[0m\u001b[0;34m=\u001b[0m\u001b[0msample_rate\u001b[0m\u001b[0;34m)\u001b[0m\u001b[0;34m\u001b[0m\u001b[0;34m\u001b[0m\u001b[0m\n",
            "\u001b[0;31mException\u001b[0m: Output omitted to reduce the file size"
          ]
        }
      ],
      "source": [
        "raise Exception('Output omitted to reduce the file size')\n",
        "print(\"Mid of a random window\" + \" (danceability:\", labels[89])\n",
        "ipd.Audio(data=X[89,:,0], rate=sample_rate)"
      ]
    },
    {
      "cell_type": "code",
      "execution_count": 7,
      "id": "d3788709",
      "metadata": {
        "id": "d3788709",
        "outputId": "827d5dd8-6ba2-4b64-ba7e-78f0877af057",
        "colab": {
          "base_uri": "https://localhost:8080/",
          "height": 180
        }
      },
      "outputs": [
        {
          "output_type": "error",
          "ename": "Exception",
          "evalue": "Output omitted to reduce the file size",
          "traceback": [
            "\u001b[0;31m---------------------------------------------------------------------------\u001b[0m",
            "\u001b[0;31mException\u001b[0m                                 Traceback (most recent call last)",
            "\u001b[0;32m<ipython-input-7-19a5d931e5b3>\u001b[0m in \u001b[0;36m<cell line: 0>\u001b[0;34m()\u001b[0m\n\u001b[0;32m----> 1\u001b[0;31m \u001b[0;32mraise\u001b[0m \u001b[0mException\u001b[0m\u001b[0;34m(\u001b[0m\u001b[0;34m'Output omitted to reduce the file size'\u001b[0m\u001b[0;34m)\u001b[0m\u001b[0;34m\u001b[0m\u001b[0;34m\u001b[0m\u001b[0m\n\u001b[0m\u001b[1;32m      2\u001b[0m \u001b[0mprint\u001b[0m\u001b[0;34m(\u001b[0m\u001b[0;34m\"Side of the same window\"\u001b[0m\u001b[0;34m)\u001b[0m\u001b[0;34m\u001b[0m\u001b[0;34m\u001b[0m\u001b[0m\n\u001b[1;32m      3\u001b[0m \u001b[0mipd\u001b[0m\u001b[0;34m.\u001b[0m\u001b[0mAudio\u001b[0m\u001b[0;34m(\u001b[0m\u001b[0mdata\u001b[0m\u001b[0;34m=\u001b[0m\u001b[0mX\u001b[0m\u001b[0;34m[\u001b[0m\u001b[0;36m89\u001b[0m\u001b[0;34m,\u001b[0m\u001b[0;34m:\u001b[0m\u001b[0;34m,\u001b[0m\u001b[0;36m1\u001b[0m\u001b[0;34m]\u001b[0m\u001b[0;34m,\u001b[0m \u001b[0mrate\u001b[0m\u001b[0;34m=\u001b[0m\u001b[0msample_rate\u001b[0m\u001b[0;34m)\u001b[0m\u001b[0;34m\u001b[0m\u001b[0;34m\u001b[0m\u001b[0m\n",
            "\u001b[0;31mException\u001b[0m: Output omitted to reduce the file size"
          ]
        }
      ],
      "source": [
        "raise Exception('Output omitted to reduce the file size')\n",
        "print(\"Side of the same window\")\n",
        "ipd.Audio(data=X[89,:,1], rate=sample_rate)"
      ]
    },
    {
      "cell_type": "code",
      "execution_count": 8,
      "id": "d6f6eb2a",
      "metadata": {
        "id": "d6f6eb2a",
        "outputId": "4b9259a1-0156-44f1-bcc0-a545924dbf06",
        "colab": {
          "base_uri": "https://localhost:8080/",
          "height": 180
        }
      },
      "outputs": [
        {
          "output_type": "error",
          "ename": "Exception",
          "evalue": "Output omitted to reduce the file size",
          "traceback": [
            "\u001b[0;31m---------------------------------------------------------------------------\u001b[0m",
            "\u001b[0;31mException\u001b[0m                                 Traceback (most recent call last)",
            "\u001b[0;32m<ipython-input-8-248a480644d0>\u001b[0m in \u001b[0;36m<cell line: 0>\u001b[0;34m()\u001b[0m\n\u001b[0;32m----> 1\u001b[0;31m \u001b[0;32mraise\u001b[0m \u001b[0mException\u001b[0m\u001b[0;34m(\u001b[0m\u001b[0;34m'Output omitted to reduce the file size'\u001b[0m\u001b[0;34m)\u001b[0m\u001b[0;34m\u001b[0m\u001b[0;34m\u001b[0m\u001b[0m\n\u001b[0m\u001b[1;32m      2\u001b[0m \u001b[0mprint\u001b[0m\u001b[0;34m(\u001b[0m\u001b[0;34m\"Mid of a another window\"\u001b[0m \u001b[0;34m+\u001b[0m \u001b[0;34m\" (danceability:\"\u001b[0m\u001b[0;34m,\u001b[0m \u001b[0mlabels\u001b[0m\u001b[0;34m[\u001b[0m\u001b[0;36m200\u001b[0m\u001b[0;34m]\u001b[0m\u001b[0;34m)\u001b[0m\u001b[0;34m\u001b[0m\u001b[0;34m\u001b[0m\u001b[0m\n\u001b[1;32m      3\u001b[0m \u001b[0mipd\u001b[0m\u001b[0;34m.\u001b[0m\u001b[0mAudio\u001b[0m\u001b[0;34m(\u001b[0m\u001b[0mdata\u001b[0m\u001b[0;34m=\u001b[0m\u001b[0mX\u001b[0m\u001b[0;34m[\u001b[0m\u001b[0;36m200\u001b[0m\u001b[0;34m,\u001b[0m\u001b[0;34m:\u001b[0m\u001b[0;34m,\u001b[0m\u001b[0;36m0\u001b[0m\u001b[0;34m]\u001b[0m\u001b[0;34m,\u001b[0m \u001b[0mrate\u001b[0m\u001b[0;34m=\u001b[0m\u001b[0msample_rate\u001b[0m\u001b[0;34m)\u001b[0m\u001b[0;34m\u001b[0m\u001b[0;34m\u001b[0m\u001b[0m\n",
            "\u001b[0;31mException\u001b[0m: Output omitted to reduce the file size"
          ]
        }
      ],
      "source": [
        "raise Exception('Output omitted to reduce the file size')\n",
        "print(\"Mid of a another window\" + \" (danceability:\", labels[200])\n",
        "ipd.Audio(data=X[200,:,0], rate=sample_rate)"
      ]
    },
    {
      "cell_type": "code",
      "execution_count": 9,
      "id": "abe92d37",
      "metadata": {
        "id": "abe92d37",
        "outputId": "728e6846-9785-4127-d891-2d253e9cdb8d",
        "colab": {
          "base_uri": "https://localhost:8080/",
          "height": 180
        }
      },
      "outputs": [
        {
          "output_type": "error",
          "ename": "Exception",
          "evalue": "Output omitted to reduce the file size",
          "traceback": [
            "\u001b[0;31m---------------------------------------------------------------------------\u001b[0m",
            "\u001b[0;31mException\u001b[0m                                 Traceback (most recent call last)",
            "\u001b[0;32m<ipython-input-9-21ac9bad32ae>\u001b[0m in \u001b[0;36m<cell line: 0>\u001b[0;34m()\u001b[0m\n\u001b[0;32m----> 1\u001b[0;31m \u001b[0;32mraise\u001b[0m \u001b[0mException\u001b[0m\u001b[0;34m(\u001b[0m\u001b[0;34m'Output omitted to reduce the file size'\u001b[0m\u001b[0;34m)\u001b[0m\u001b[0;34m\u001b[0m\u001b[0;34m\u001b[0m\u001b[0m\n\u001b[0m\u001b[1;32m      2\u001b[0m \u001b[0mprint\u001b[0m\u001b[0;34m(\u001b[0m\u001b[0;34m\"Side of the same other window\"\u001b[0m\u001b[0;34m)\u001b[0m\u001b[0;34m\u001b[0m\u001b[0;34m\u001b[0m\u001b[0m\n\u001b[1;32m      3\u001b[0m \u001b[0mipd\u001b[0m\u001b[0;34m.\u001b[0m\u001b[0mAudio\u001b[0m\u001b[0;34m(\u001b[0m\u001b[0mdata\u001b[0m\u001b[0;34m=\u001b[0m\u001b[0mX\u001b[0m\u001b[0;34m[\u001b[0m\u001b[0;36m200\u001b[0m\u001b[0;34m,\u001b[0m\u001b[0;34m:\u001b[0m\u001b[0;34m,\u001b[0m\u001b[0;36m1\u001b[0m\u001b[0;34m]\u001b[0m\u001b[0;34m,\u001b[0m \u001b[0mrate\u001b[0m\u001b[0;34m=\u001b[0m\u001b[0msample_rate\u001b[0m\u001b[0;34m)\u001b[0m\u001b[0;34m\u001b[0m\u001b[0;34m\u001b[0m\u001b[0m\n",
            "\u001b[0;31mException\u001b[0m: Output omitted to reduce the file size"
          ]
        }
      ],
      "source": [
        "raise Exception('Output omitted to reduce the file size')\n",
        "print(\"Side of the same other window\")\n",
        "ipd.Audio(data=X[200,:,1], rate=sample_rate)"
      ]
    },
    {
      "cell_type": "code",
      "execution_count": null,
      "id": "47e79bb7",
      "metadata": {
        "id": "47e79bb7"
      },
      "outputs": [],
      "source": [
        "### Introduce the convolutional network's architecture\n",
        "# Remember that the output is not a classifier and instead a numeric value\n",
        "\n",
        "# I wish to try a parallel convolutional network... one where I take convolved mid info and convolved side info,\n",
        "# and then concatenate them into more linear layers towards the end\n",
        "\n",
        "# Actually, it might actually be interesting + worth trying stacking the input on top of itself... perhaps in time\n",
        "# with the songs bpm or measures... that way, what is happenning can also be convolved with events further in the future"
      ]
    },
    {
      "cell_type": "code",
      "execution_count": null,
      "id": "4eed090a",
      "metadata": {
        "id": "4eed090a"
      },
      "outputs": [],
      "source": [
        "### Train the model. Remember to use callbacks with keras\n",
        "# My loss function does not have to be cross-entropy here.  Instead, I think I can just keep it simple with -1 and 1.\n",
        "# Maybe would be interesting to try something that is a spectrum from -1 to 0 to +1, adjusting by my specified\n",
        "# requirements."
      ]
    },
    {
      "cell_type": "code",
      "execution_count": null,
      "id": "979e3b34",
      "metadata": {
        "id": "979e3b34"
      },
      "outputs": [],
      "source": [
        "### Test the model and plot results\n",
        "# Accuracy can be measured a number of ways here.  Could be percentage, where wrong is certain distance from correct\n",
        "# answer.  Or just percentage based on overall distance from ground truth.  Or just loss.  Or some other arbitrary\n",
        "# labelling method."
      ]
    }
  ],
  "metadata": {
    "kernelspec": {
      "display_name": "Python 3 (ipykernel)",
      "language": "python",
      "name": "python3"
    },
    "language_info": {
      "codemirror_mode": {
        "name": "ipython",
        "version": 3
      },
      "file_extension": ".py",
      "mimetype": "text/x-python",
      "name": "python",
      "nbconvert_exporter": "python",
      "pygments_lexer": "ipython3",
      "version": "3.11.4"
    },
    "colab": {
      "provenance": []
    }
  },
  "nbformat": 4,
  "nbformat_minor": 5
}